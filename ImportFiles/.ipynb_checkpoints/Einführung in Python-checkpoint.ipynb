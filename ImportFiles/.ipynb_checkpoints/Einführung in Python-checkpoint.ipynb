{
 "cells": [
  {
   "cell_type": "markdown",
   "metadata": {},
   "source": [
    "# Einführung\n",
    "\n",
    "Die folgende Einführung ist eine Kurzfassung der exzellenten Einführung von\n",
    "Anselm Lingnau. Der Originaltext ist unter \n",
    "[https://www.tuxcademy.org/download/de/pyth/pyth-de-manual.pdf](https://www.tuxcademy.org/download/de/pyth/pyth-de-manual.pdf) zu finden und wird wärmstens zur Lektüre empfohlen."
   ]
  },
  {
   "cell_type": "markdown",
   "metadata": {},
   "source": [
    "## Geschichte\n",
    "\n",
    "Python \n",
    "- wurde in den 80er Jahren des vorigen Jahrhunderts von Guido van Rossum an der Freien Universität Amsterdam erfunden\n",
    "- wird derzeit von der \"Python Software Foundation\" (gemeinnützig) betreut\n",
    "- hat zwei aktuelle Fassungen: 2.7 und 3.6\n",
    "\n",
    "| | |\n",
    "| :------ | :---------------------------------------------------------------------------------------------- |\n",
    "| ![light-bulb-48x48.png](light-bulb-48x48.png) | Die Version 2.7 soll nur noch bis 2020 unterstützt werden |\n"
   ]
  },
  {
   "cell_type": "markdown",
   "metadata": {},
   "source": [
    "## Stärken und Schwächen\n",
    "\n",
    "Die Vorteile von Python sind:\n",
    "\n",
    "- **Dynamische Typisierung:** Variablen müssen nicht im Voraus deklariert werden\n",
    "- **Objektorientierung:** Python unterstützt den objektorientierten Programmierstil\n",
    "- **Datentypen:** Python besitzt eine Vielzahl von unterstützten Datentypen\n",
    "- **Automatische Verwaltung des Speicherplatzes:** Der Programmierer ist nicht für die Reservierung des Speichers verantwortlich\n",
    "- **Module:** Python-Programme können sehr einfach in Module aufgeteilt werden.\n",
    "- **Front-End:** Python kann als Skripting-Sprache für den Aufruf vieler Standardbibliotheken verwendet werden, z.B. Open-CV\n",
    "- **Portabilität und freie Verfügbarkeit:** Python als Open-Source-Projekt ist auf vielen Plattformen verfügbar\n",
    "\n",
    "Die Schwächen von Python sind:\n",
    "\n",
    "- **Performance:** Im Verhältnis zu Sprachen wie C/C++ kann der Programmierer den Code wenig optimieren\n",
    "- **Dynamische Typisierung:** Programmierfehler in Bezug auf erlaubte Operationen werden erst zur Laufzeit erkannt"
   ]
  },
  {
   "cell_type": "markdown",
   "metadata": {},
   "source": [
    "## Ein einfaches Python Programm\n",
    "\n",
    "Python-Code kann mit jedem Text-Editor erstellt werden. (Mit Entwicklungs-Umgebungen erhält man allerdings mehr Unterstützung für Routine-Aufgaben!). Die Dateien erhalten in der Regel die Endung *.py*. Der Code muss von einem Interpreter übersetzt und ausgeführt werden. In Jupyter geschieht dies durch \"Run Cell\".\n",
    "\n",
    "Einfache Anweisungen werden in eine Zeile geschrieben:"
   ]
  },
  {
   "cell_type": "code",
   "execution_count": 1,
   "metadata": {},
   "outputs": [
    {
     "name": "stdout",
     "output_type": "stream",
     "text": [
      "Hallo Welt!\n"
     ]
    }
   ],
   "source": [
    "print(\"Hallo Welt!\")"
   ]
  },
  {
   "cell_type": "markdown",
   "metadata": {},
   "source": [
    "Eine Zeile, die mit **#** beginnt, wird vom Rechner als Kommentar betrachtet:"
   ]
  },
  {
   "cell_type": "code",
   "execution_count": 2,
   "metadata": {},
   "outputs": [
    {
     "name": "stdout",
     "output_type": "stream",
     "text": [
      "Hallo Welt!\n"
     ]
    }
   ],
   "source": [
    "# Begrüße die Welt\n",
    "print(\"Hallo Welt!\")"
   ]
  },
  {
   "cell_type": "markdown",
   "metadata": {},
   "source": [
    "# Einfache Datentypen\n",
    "\n",
    "## Zahlen\n",
    "\n",
    "**Ganze Zahlen** werden einfach so eingetippt, wie wir sie kennen:"
   ]
  },
  {
   "cell_type": "code",
   "execution_count": 3,
   "metadata": {},
   "outputs": [
    {
     "data": {
      "text/plain": [
       "-80"
      ]
     },
     "execution_count": 3,
     "metadata": {},
     "output_type": "execute_result"
    }
   ],
   "source": [
    "1\n",
    "42\n",
    "8014\n",
    "-80"
   ]
  },
  {
   "cell_type": "markdown",
   "metadata": {},
   "source": [
    "**Gleitkommazahlen**, also Zahlen, die ein Komma besitzen, können auf unterschiedliche Weisen eingetippt werden. Da Python aus dem englischsprachigen Raum stammt, wird statt des Kommas der Punkt verwendet."
   ]
  },
  {
   "cell_type": "code",
   "execution_count": 4,
   "metadata": {},
   "outputs": [
    {
     "data": {
      "text/plain": [
       "-273.15"
      ]
     },
     "execution_count": 4,
     "metadata": {},
     "output_type": "execute_result"
    }
   ],
   "source": [
    "3.1415\n",
    "-273.15"
   ]
  },
  {
   "cell_type": "markdown",
   "metadata": {},
   "source": [
    "Für sehr kleine oder sehr große Zahlen kann die Exponentenschreibweise verwender werden. Das Plancksche Wirkungsquantum $h$ beträgt circa $6,626 \\cdot 10^{-34}$, in Python:"
   ]
  },
  {
   "cell_type": "code",
   "execution_count": 5,
   "metadata": {},
   "outputs": [
    {
     "data": {
      "text/plain": [
       "6.626e-34"
      ]
     },
     "execution_count": 5,
     "metadata": {},
     "output_type": "execute_result"
    }
   ],
   "source": [
    "# Planksches Wirkungsquantum h\n",
    "6.626e-34"
   ]
  },
  {
   "cell_type": "markdown",
   "metadata": {},
   "source": [
    "## Rechenausdrücke\n",
    "\n",
    "Wie jeder Taschenrechner kann auch Python die Grundrechenarten und kennt die gängigen Rechenregeln (Punkt vor Strich, Klammern etc.)"
   ]
  },
  {
   "cell_type": "code",
   "execution_count": 6,
   "metadata": {},
   "outputs": [
    {
     "data": {
      "text/plain": [
       "20"
      ]
     },
     "execution_count": 6,
     "metadata": {},
     "output_type": "execute_result"
    }
   ],
   "source": [
    "6+7*2"
   ]
  },
  {
   "cell_type": "code",
   "execution_count": 7,
   "metadata": {},
   "outputs": [
    {
     "data": {
      "text/plain": [
       "26"
      ]
     },
     "execution_count": 7,
     "metadata": {},
     "output_type": "execute_result"
    }
   ],
   "source": [
    "(6+7)*2"
   ]
  },
  {
   "cell_type": "code",
   "execution_count": 8,
   "metadata": {},
   "outputs": [
    {
     "data": {
      "text/plain": [
       "1.25"
      ]
     },
     "execution_count": 8,
     "metadata": {},
     "output_type": "execute_result"
    }
   ],
   "source": [
    "5/4"
   ]
  },
  {
   "cell_type": "markdown",
   "metadata": {},
   "source": [
    "| | |\n",
    "| :------ | :---------------------------------------------------------------------------------------------- |\n",
    "| ![light-bulb-48x48.png](light-bulb-48x48.png) | In Python3 ist das Ergebnis der Division zweier Ganzzahl-Werte immer einen Gleitkommawert. Python2 liefert nur dann einen Ganzzahlwert, wenn beide Operatoren ganzzahlig sind. In Python3 kann man dies forcieren, indem man den Operator // verwendet."
   ]
  },
  {
   "cell_type": "code",
   "execution_count": 9,
   "metadata": {},
   "outputs": [
    {
     "data": {
      "text/plain": [
       "6"
      ]
     },
     "execution_count": 9,
     "metadata": {},
     "output_type": "execute_result"
    }
   ],
   "source": [
    "20//3    # ganzzahlige Division"
   ]
  },
  {
   "cell_type": "code",
   "execution_count": 10,
   "metadata": {},
   "outputs": [
    {
     "data": {
      "text/plain": [
       "2"
      ]
     },
     "execution_count": 10,
     "metadata": {},
     "output_type": "execute_result"
    }
   ],
   "source": [
    "20%3     # Rest "
   ]
  },
  {
   "cell_type": "markdown",
   "metadata": {},
   "source": [
    "Im Gegensatz zu C und JAVA kennt Python den Potenzoperator:"
   ]
  },
  {
   "cell_type": "code",
   "execution_count": 11,
   "metadata": {},
   "outputs": [
    {
     "data": {
      "text/plain": [
       "8"
      ]
     },
     "execution_count": 11,
     "metadata": {},
     "output_type": "execute_result"
    }
   ],
   "source": [
    "2**3"
   ]
  },
  {
   "cell_type": "markdown",
   "metadata": {},
   "source": [
    "Python kennt elementare mathematische Funktionen wie round(), min() , max()"
   ]
  },
  {
   "cell_type": "code",
   "execution_count": 12,
   "metadata": {},
   "outputs": [
    {
     "data": {
      "text/plain": [
       "3"
      ]
     },
     "execution_count": 12,
     "metadata": {},
     "output_type": "execute_result"
    }
   ],
   "source": [
    "round(3.1415)"
   ]
  },
  {
   "cell_type": "code",
   "execution_count": 13,
   "metadata": {},
   "outputs": [
    {
     "data": {
      "text/plain": [
       "3.14"
      ]
     },
     "execution_count": 13,
     "metadata": {},
     "output_type": "execute_result"
    }
   ],
   "source": [
    "round(3.1415,2)"
   ]
  },
  {
   "cell_type": "code",
   "execution_count": 14,
   "metadata": {},
   "outputs": [
    {
     "data": {
      "text/plain": [
       "2"
      ]
     },
     "execution_count": 14,
     "metadata": {},
     "output_type": "execute_result"
    }
   ],
   "source": [
    "min(5,2)"
   ]
  },
  {
   "cell_type": "code",
   "execution_count": 15,
   "metadata": {},
   "outputs": [
    {
     "data": {
      "text/plain": [
       "5"
      ]
     },
     "execution_count": 15,
     "metadata": {},
     "output_type": "execute_result"
    }
   ],
   "source": [
    "max(5,2)"
   ]
  },
  {
   "cell_type": "markdown",
   "metadata": {},
   "source": [
    "Für weitergehende Funktionen muss das Paket **math** eingebunden werden, das eine Vielzahl von mathematischen Funktionen und Konstanten kennt."
   ]
  },
  {
   "cell_type": "code",
   "execution_count": 16,
   "metadata": {},
   "outputs": [
    {
     "data": {
      "text/plain": [
       "1.0"
      ]
     },
     "execution_count": 16,
     "metadata": {},
     "output_type": "execute_result"
    }
   ],
   "source": [
    "import math\n",
    "math.cos(math.pi*2)"
   ]
  },
  {
   "cell_type": "markdown",
   "metadata": {},
   "source": [
    "## Variable\n",
    "\n",
    "Wenn man Rechenausdrücke speichern möchte, muss man dem Ergebnis einen Namen geben können. In Programmiersprachen übernimmt dies die _Variable_. Variablennamen dürfen nur aus Buchstaben, Ziffern und Unterstrichen _ bestehen, wobei sie nicht mit einer Ziffer beginnen dürfen. Sie dürfen (logischerweise) auch nicht so heißen, wie die _Kommandowörter_ der Programmiersprache Python."
   ]
  },
  {
   "cell_type": "code",
   "execution_count": 17,
   "metadata": {},
   "outputs": [
    {
     "name": "stdout",
     "output_type": "stream",
     "text": [
      "31.4\n"
     ]
    }
   ],
   "source": [
    "from math import pi\n",
    "radius=5\n",
    "umfang=round(2*radius*pi,1)\n",
    "print(umfang)"
   ]
  },
  {
   "cell_type": "markdown",
   "metadata": {},
   "source": [
    "## Zeichenketten\n",
    "\n",
    "Zeichenketten werden in einfache oder doppelte Anführungszeichen eingeschlossen, wobei die Anführungsszeichen nicht zur Zeichenkette zählen, sondern nur dazu dienen, dass sie von Variablen unterschieden werden können:\n"
   ]
  },
  {
   "cell_type": "code",
   "execution_count": 18,
   "metadata": {},
   "outputs": [
    {
     "data": {
      "text/plain": [
       "'Hallo'"
      ]
     },
     "execution_count": 18,
     "metadata": {},
     "output_type": "execute_result"
    }
   ],
   "source": [
    "\"Hallo\""
   ]
  },
  {
   "cell_type": "markdown",
   "metadata": {},
   "source": [
    "Wenn doppelte oder einfache Anführungszeichen Teil der Zeichenkette sein sollen, dann müssen sie vom jeweils anderen Typ eingerahmt werden:"
   ]
  },
  {
   "cell_type": "code",
   "execution_count": 19,
   "metadata": {},
   "outputs": [
    {
     "data": {
      "text/plain": [
       "\"Ein einfaches 'nein' hätte auch genügt!\""
      ]
     },
     "execution_count": 19,
     "metadata": {},
     "output_type": "execute_result"
    }
   ],
   "source": [
    "\"Ein einfaches 'nein' hätte auch genügt!\""
   ]
  },
  {
   "cell_type": "markdown",
   "metadata": {},
   "source": [
    "| | |\n",
    "| :------ | :---------------------------------------------------------------------------------------------- |\n",
    "| ![light-bulb-48x48.png](light-bulb-48x48.png) | Zeichenketten, die mit einem oder zwei Unterstrichen beginnen, haben eine Sonderbedeutung in Python (siehe weiter unten!)"
   ]
  },
  {
   "cell_type": "markdown",
   "metadata": {},
   "source": [
    "## Rechenausdrücke mit Zeichenketten\n",
    "\n",
    "Auch für Zeichenketten existieren Funktionen. Zwei Zeichenketten können mit **+** aneinandergehängt werden, mit\n",
    "** * ** n-fach wiederholt und die Länge kann mit **len()** ermittelt werden:"
   ]
  },
  {
   "cell_type": "code",
   "execution_count": 20,
   "metadata": {},
   "outputs": [
    {
     "data": {
      "text/plain": [
       "'Hallo Welt'"
      ]
     },
     "execution_count": 20,
     "metadata": {},
     "output_type": "execute_result"
    }
   ],
   "source": [
    "wort_1=\"Hallo\"\n",
    "wort_2=\"Welt\"\n",
    "wort_1 + \" \" + wort_2"
   ]
  },
  {
   "cell_type": "code",
   "execution_count": 21,
   "metadata": {},
   "outputs": [
    {
     "data": {
      "text/plain": [
       "'hoch hoch hoch '"
      ]
     },
     "execution_count": 21,
     "metadata": {},
     "output_type": "execute_result"
    }
   ],
   "source": [
    "\"hoch \" * 3"
   ]
  },
  {
   "cell_type": "code",
   "execution_count": 22,
   "metadata": {},
   "outputs": [
    {
     "data": {
      "text/plain": [
       "63"
      ]
     },
     "execution_count": 22,
     "metadata": {},
     "output_type": "execute_result"
    }
   ],
   "source": [
    "len(\"Rindfleischetikettierungsüberwachungsaufgabenübertragungsgesetz\")"
   ]
  },
  {
   "cell_type": "markdown",
   "metadata": {},
   "source": [
    "# Verzweigungen und Schleifen\n"
   ]
  },
  {
   "cell_type": "markdown",
   "metadata": {},
   "source": [
    "## Verzweigungen mit _if_\n",
    "\n",
    "Die Fallunterscheidung ist ein wichtiger Baustein von Programmiersprachen. In fast allen Sprachen wird diese mit dem Schlüsselwort **if** eingeleitet. Danach folgt eine Bedingung, die ausgewertet wird, und je nach Ergebnis wird entweder der anschließende Teil (falls das Ergebnis der Bedingung wahr ist) oder ein anderer Teil des Programms ausgeführt (sofern dies vorgesehen ist):"
   ]
  },
  {
   "cell_type": "code",
   "execution_count": 23,
   "metadata": {},
   "outputs": [
    {
     "name": "stdout",
     "output_type": "stream",
     "text": [
      "5\n",
      "25\n",
      "fertig!\n"
     ]
    }
   ],
   "source": [
    "i=5\n",
    "if i < 10:\n",
    "    print(i)\n",
    "    print(i**2)\n",
    "print(\"fertig!\")"
   ]
  },
  {
   "cell_type": "markdown",
   "metadata": {},
   "source": [
    "Das Ende der Bedingung wird in Python mit dem Doppelpunkt gekennzeichnet. Der Teil, der im Falle der Bedingung ausgeführt wird, muss eingerückt werden. Dabei dürfen Leerzeichen und Tabulatoren **nicht** gemischt werden. Außerdem muss jede Zeile im eingerückten Teil gleich weit eingerückt werden! \n",
    "\n",
    "Das folgende Beispiel zeigt eine Verzweigung mit Alternative:"
   ]
  },
  {
   "cell_type": "code",
   "execution_count": 24,
   "metadata": {},
   "outputs": [
    {
     "name": "stdout",
     "output_type": "stream",
     "text": [
      "i ist ungerade\n"
     ]
    }
   ],
   "source": [
    "i=23\n",
    "if i%2 == 1:\n",
    "    print(\"i ist ungerade\")\n",
    "else:\n",
    "    print(\"i ist gerade\")"
   ]
  },
  {
   "cell_type": "markdown",
   "metadata": {},
   "source": [
    "Verzweigungen können auch ineinander verschachtelt werden:"
   ]
  },
  {
   "cell_type": "code",
   "execution_count": 25,
   "metadata": {},
   "outputs": [
    {
     "name": "stdout",
     "output_type": "stream",
     "text": [
      "Apfel\n"
     ]
    }
   ],
   "source": [
    "farbe=\"gelb\"\n",
    "form=\"rund\"\n",
    "if farbe == \"gelb\":\n",
    "    if form == \"rund\":\n",
    "        print(\"Apfel\")\n",
    "    else:\n",
    "        print(\"Banane\")"
   ]
  },
  {
   "cell_type": "markdown",
   "metadata": {},
   "source": [
    "Statt einer einzigen Bedingung können mit dem Schlüsselwort **elif** auch mehrere Bedingungen hintereinander abgefragt werden:"
   ]
  },
  {
   "cell_type": "code",
   "execution_count": 26,
   "metadata": {},
   "outputs": [
    {
     "name": "stdout",
     "output_type": "stream",
     "text": [
      "unbekannte Frucht\n"
     ]
    }
   ],
   "source": [
    "farbe=\"gelb\"\n",
    "form=\"oval\"\n",
    "if farbe == \"gelb\":\n",
    "    if form == \"rund\":\n",
    "        print(\"Apfel\")\n",
    "    elif form == \"länglich\":\n",
    "        print(\"Banane\")\n",
    "    else:\n",
    "        print(\"unbekannte Frucht\")"
   ]
  },
  {
   "cell_type": "markdown",
   "metadata": {},
   "source": [
    "## Schleifen mit _while_\n",
    "\n",
    "Oft müssen Programmteile wiederholt ausgeführt werden. Dazu dient in Python das Schlüsselwort **while**. Wie bei **if** wird zunächst eine Bedingung angegeben. Allerdings wird der eingerückte Programmteil nicht nur einmal, sondern so oft wiederholt, wie die Bedingung wahr ergibt."
   ]
  },
  {
   "cell_type": "code",
   "execution_count": 27,
   "metadata": {},
   "outputs": [
    {
     "name": "stdout",
     "output_type": "stream",
     "text": [
      "100\n",
      "121\n",
      "144\n",
      "169\n",
      "196\n",
      "225\n",
      "256\n",
      "289\n",
      "324\n",
      "361\n",
      "400\n"
     ]
    }
   ],
   "source": [
    "i=10\n",
    "while i<=20:\n",
    "    print(i**2)\n",
    "    i = i+1"
   ]
  },
  {
   "cell_type": "markdown",
   "metadata": {},
   "source": [
    "# Datenstrukturen: Folgen"
   ]
  },
  {
   "cell_type": "markdown",
   "metadata": {},
   "source": [
    "## Tupel\n",
    "\n",
    "In Python können mehrere Datenobjekte zu einem _Tupel_ zusammengefasst werden. Die Datenobjekte selbst können einfache Objekte oder auch selbst aus Tupeln bestehen. Die Bestandteile eines Tupels müssen auch nicht aus demselben Typ bestehen."
   ]
  },
  {
   "cell_type": "code",
   "execution_count": 28,
   "metadata": {},
   "outputs": [
    {
     "name": "stdout",
     "output_type": "stream",
     "text": [
      "(1, 2, 3)\n"
     ]
    }
   ],
   "source": [
    " # Tripel aus drei Zahlen\n",
    "p = (1,2,3) \n",
    "print (p)"
   ]
  },
  {
   "cell_type": "code",
   "execution_count": 29,
   "metadata": {},
   "outputs": [
    {
     "name": "stdout",
     "output_type": "stream",
     "text": [
      "((1, 0, 0), (0, 1, 0), (0, 0, 1))\n"
     ]
    }
   ],
   "source": [
    "# Tripel aus Tripeln\n",
    "x = (1,0,0)\n",
    "y = (0,1,0)\n",
    "z = (0,0,1)\n",
    "matrix = (x,y,z) \n",
    "print(matrix)"
   ]
  },
  {
   "cell_type": "code",
   "execution_count": 30,
   "metadata": {},
   "outputs": [
    {
     "name": "stdout",
     "output_type": "stream",
     "text": [
      "((14, 3, 'Pi Day'), (4, 5, 'Star Wars Day'), (22, 7, 'Pi Approximation Day'))\n"
     ]
    }
   ],
   "source": [
    "# gemischtes Tupel\n",
    "awareness_days = (\n",
    "    (14, 3, \"Pi Day\") ,\n",
    "    ( 4, 5, \"Star Wars Day\") ,\n",
    "    ( 22, 7, \"Pi Approximation Day\" )\n",
    ")\n",
    "print(awareness_days)"
   ]
  },
  {
   "cell_type": "markdown",
   "metadata": {},
   "source": [
    "## Operatoren auf Tupeln\n",
    "\n",
    "### Auswahl von Elementen\n",
    "\n",
    "Auf die einzelnen Elemente eines Tupels kann man zugreifen, indem man eckige Klammern hinter den Namen des Tupels schreibt. (Gezählt wird ab Null!) Die Elemente können nur gelesen, aber nicht geschrieben werden. Auf Elemente von verschachtelten Tupeln kann man durch Hinzufügen einer weiteren eckigen Klammer zugreifen.\n"
   ]
  },
  {
   "cell_type": "code",
   "execution_count": 31,
   "metadata": {},
   "outputs": [
    {
     "data": {
      "text/plain": [
       "2"
      ]
     },
     "execution_count": 31,
     "metadata": {},
     "output_type": "execute_result"
    }
   ],
   "source": [
    "p[1]"
   ]
  },
  {
   "cell_type": "code",
   "execution_count": 32,
   "metadata": {},
   "outputs": [
    {
     "data": {
      "text/plain": [
       "'Star Wars Day'"
      ]
     },
     "execution_count": 32,
     "metadata": {},
     "output_type": "execute_result"
    }
   ],
   "source": [
    "awareness_days[1][2]"
   ]
  },
  {
   "cell_type": "markdown",
   "metadata": {},
   "source": [
    "Negative Indizes bedeuten, dass von hinten gezählt wird. [-1] bezeichnet das letzte Element eines Tupels."
   ]
  },
  {
   "cell_type": "code",
   "execution_count": 33,
   "metadata": {},
   "outputs": [
    {
     "name": "stdout",
     "output_type": "stream",
     "text": [
      "So\n",
      "Mi\n"
     ]
    }
   ],
   "source": [
    "wochentage = (\"Mo\", \"Di\", \"Mi\", \"Do\", \"Fr\", \"Sa\", \"So\")\n",
    "print(wochentage[-1])\n",
    "print(wochentage[-5])"
   ]
  },
  {
   "cell_type": "markdown",
   "metadata": {},
   "source": [
    "**Bereiche selektieren** \n",
    "\n",
    "Statt eines einzelnen Elements kann auch ein Bereich aus dem Tupel selektiert werden, indem man zwei Indizes durch **:** getrennt angibt. Der erste Index muss größer als der zweite sein, ansonsten wird ein leeres Tupel () zurückgegeben. Der zweite Index gibt das erste Element an, das _nicht_ mehr selektiert wird.\n",
    "Wenn ein Index weggelassen wird, dann wird der Beginn resp. das Ende des Tupels angenommen. Werden beide Indizes weggelassen, dann wird die gesamte Folge selektiert.\n",
    "Das Konstrukt [x:y] nennt man _Slice_."
   ]
  },
  {
   "cell_type": "code",
   "execution_count": 34,
   "metadata": {},
   "outputs": [
    {
     "name": "stdout",
     "output_type": "stream",
     "text": [
      "('Mi', 'Do', 'Fr')\n",
      "('Sa', 'So')\n",
      "('Mo', 'Di', 'Mi', 'Do', 'Fr', 'Sa', 'So')\n",
      "()\n"
     ]
    }
   ],
   "source": [
    "print(wochentage[2:5])\n",
    "print(wochentage[5:])\n",
    "print(wochentage[:])\n",
    "print(wochentage[5:2])"
   ]
  },
  {
   "cell_type": "markdown",
   "metadata": {},
   "source": [
    "Anstatt jedes Element auszuwählen kann auch eine weitere Zahl als Schrittweite angegeben werden. Bei einer negativen Schrittweite wird das Tupel rückwärts durchlaufen."
   ]
  },
  {
   "cell_type": "code",
   "execution_count": 35,
   "metadata": {},
   "outputs": [
    {
     "name": "stdout",
     "output_type": "stream",
     "text": [
      "('Di', 'Do', 'Sa')\n",
      "('So', 'Sa', 'Fr', 'Do', 'Mi', 'Di', 'Mo')\n"
     ]
    }
   ],
   "source": [
    "# jeder zweite Wochentag ab Dienstag\n",
    "print(wochentage[1:6:2])\n",
    "# die Woche rückwärts\n",
    "print(wochentage[::-1])"
   ]
  },
  {
   "cell_type": "markdown",
   "metadata": {},
   "source": [
    "### Test auf Enthaltensein\n",
    "\n",
    "Zur Überprüfung, ob ein Element in einem Tupel enthalten ist, gibt es die Operatoren **in** und **not in**, sowie die Methode _index()_"
   ]
  },
  {
   "cell_type": "code",
   "execution_count": 36,
   "metadata": {},
   "outputs": [
    {
     "data": {
      "text/plain": [
       "True"
      ]
     },
     "execution_count": 36,
     "metadata": {},
     "output_type": "execute_result"
    }
   ],
   "source": [
    "\"Mi\" in wochentage"
   ]
  },
  {
   "cell_type": "code",
   "execution_count": 37,
   "metadata": {},
   "outputs": [
    {
     "data": {
      "text/plain": [
       "False"
      ]
     },
     "execution_count": 37,
     "metadata": {},
     "output_type": "execute_result"
    }
   ],
   "source": [
    "\"Mittwoch\" in wochentage"
   ]
  },
  {
   "cell_type": "code",
   "execution_count": 38,
   "metadata": {},
   "outputs": [
    {
     "data": {
      "text/plain": [
       "2"
      ]
     },
     "execution_count": 38,
     "metadata": {},
     "output_type": "execute_result"
    }
   ],
   "source": [
    "wochentage.index(\"Mi\")"
   ]
  },
  {
   "cell_type": "markdown",
   "metadata": {},
   "source": [
    "| | |\n",
    "| :------ | :---------------------------------------------------------------------------------------------- |\n",
    "| ![light-bulb-48x48.png](light-bulb-48x48.png) | Wenn das gesuchte Element **nicht** im Tupel enthalten ist, wird vom Python-Interpreter eine Ausnahme geworfen. Diese muss behandelt werden, da ansonsten das Programm abgebrochen wird."
   ]
  },
  {
   "cell_type": "markdown",
   "metadata": {},
   "source": [
    "## Listen\n",
    "\n",
    "Listen verhalten sich wie Tupel, allerdings können die Inhalte verändert werden. Die Regeln für die Selektion sind dieselben wie bei Tupeln. Listen werden mit _eckigen Klammern_ angegeben:"
   ]
  },
  {
   "cell_type": "code",
   "execution_count": 39,
   "metadata": {},
   "outputs": [
    {
     "name": "stdout",
     "output_type": "stream",
     "text": [
      "['Hund', 'Katze', 'Hamster']\n"
     ]
    }
   ],
   "source": [
    "haustiere = [\"Hund\", \"Katze\", \"Hamster\"]\n",
    "print(haustiere)"
   ]
  },
  {
   "cell_type": "code",
   "execution_count": 40,
   "metadata": {},
   "outputs": [
    {
     "name": "stdout",
     "output_type": "stream",
     "text": [
      "['Hund', 'Meerschweinchen', 'Hamster']\n",
      "['Hund', 'Schildkröte', 'Wellensittich']\n"
     ]
    }
   ],
   "source": [
    "# ersetze Katze durch Meerschweinchen\n",
    "haustiere[1] = \"Meerschweinchen\"\n",
    "print (haustiere)\n",
    "# ersetze Meerschweinchen und Hamster durch Schildkröte und Wellensittich\n",
    "haustiere[1:3] = [ \"Schildkröte\", \"Wellensittich\" ]\n",
    "print (haustiere)"
   ]
  },
  {
   "cell_type": "markdown",
   "metadata": {},
   "source": [
    "Mit Hilfe von Slices können auch Elemente in die Liste eingefügt werden:"
   ]
  },
  {
   "cell_type": "code",
   "execution_count": 41,
   "metadata": {},
   "outputs": [
    {
     "name": "stdout",
     "output_type": "stream",
     "text": [
      "['Hund', 'Kaninchen', 'Goldfisch', 'Schildkröte', 'Wellensittich']\n"
     ]
    }
   ],
   "source": [
    "# füge zwei neue Haustiere an der zweite Stelle ein\n",
    "haustiere[1:1] = [ \"Kaninchen\", \"Goldfisch\"]\n",
    "print(haustiere)"
   ]
  },
  {
   "cell_type": "markdown",
   "metadata": {},
   "source": [
    "Elemente können mit Hilfe der Methode _append()_ ans Ende der Liste angehängt werden"
   ]
  },
  {
   "cell_type": "code",
   "execution_count": 42,
   "metadata": {},
   "outputs": [
    {
     "name": "stdout",
     "output_type": "stream",
     "text": [
      "['Hund', 'Kaninchen', 'Goldfisch', 'Schildkröte', 'Wellensittich', 'Koi']\n"
     ]
    }
   ],
   "source": [
    "haustiere.append(\"Koi\")\n",
    "print(haustiere)"
   ]
  },
  {
   "cell_type": "markdown",
   "metadata": {},
   "source": [
    "Eine leere Liste kann mit zwei eckigen Klammern erzeugt werden:"
   ]
  },
  {
   "cell_type": "code",
   "execution_count": 43,
   "metadata": {},
   "outputs": [
    {
     "name": "stdout",
     "output_type": "stream",
     "text": [
      "[]\n"
     ]
    }
   ],
   "source": [
    "leere_liste = []\n",
    "print(leere_liste)"
   ]
  },
  {
   "cell_type": "markdown",
   "metadata": {},
   "source": [
    "**Listen kopieren**\n",
    "\n",
    "Listen können nicht einfach mit dem Zuweisungsoperator **=** kopiert werden. Python arbeitet bei Datenobjekten mit _Referenzen_, d.h. es wird nicht der Inhalt kopiert, sondern nur ein neuer Name vergeben!"
   ]
  },
  {
   "cell_type": "code",
   "execution_count": 44,
   "metadata": {},
   "outputs": [
    {
     "name": "stdout",
     "output_type": "stream",
     "text": [
      "[0, 2, 2, 3, 4, 5]\n"
     ]
    }
   ],
   "source": [
    "l1 = [0,1,2,3,4,5]\n",
    "l2 = l1\n",
    "l2[1]=2\n",
    "print(l1)"
   ]
  },
  {
   "cell_type": "markdown",
   "metadata": {},
   "source": [
    "Zum Kopieren von Listen muss entweder mit Hilfe eines Slices selektiert werden, oder die Methode _copy()_ vwerwendet werden"
   ]
  },
  {
   "cell_type": "code",
   "execution_count": 45,
   "metadata": {},
   "outputs": [
    {
     "name": "stdout",
     "output_type": "stream",
     "text": [
      "[0, 1, 2, 3, 4, 5]\n",
      "[0, 2, 2, 3, 4, 5]\n"
     ]
    }
   ],
   "source": [
    "l1 = [0,1,2,3,4,5]\n",
    "l2a = l1.copy()\n",
    "l2a[1] =2\n",
    "print(l1)\n",
    "print(l2)"
   ]
  },
  {
   "cell_type": "markdown",
   "metadata": {},
   "source": [
    "| | |\n",
    "| :------ | :---------------------------------------------------------------------------------------------- |\n",
    "| ![light-bulb-48x48.png](light-bulb-48x48.png) | Wenn die Liste Referenzen enthält, z.B. auf weitere Listen, dann werden mit _copy()_ auch nur die Referenzen kopiert. Will man eine Komplett-Kopie erstellen, muss man die Funktion _deepcopy()_ aus dem Modul **copy** verwenden. |"
   ]
  },
  {
   "cell_type": "markdown",
   "metadata": {},
   "source": [
    "**Elemente löschen**\n",
    "\n",
    "Mit dem Kommando **del** können einzelne Elemente aus der Liste entfernt werden."
   ]
  },
  {
   "cell_type": "code",
   "execution_count": 46,
   "metadata": {},
   "outputs": [
    {
     "name": "stdout",
     "output_type": "stream",
     "text": [
      "[0, 1, 2, 4, 5]\n",
      "[0, 4, 5]\n"
     ]
    }
   ],
   "source": [
    "liste = [0, 1, 2, 3, 4, 5]\n",
    "del liste[3]\n",
    "print(liste)\n",
    "del liste[1:3]\n",
    "print(liste)"
   ]
  },
  {
   "cell_type": "markdown",
   "metadata": {},
   "source": [
    "Mit der Methode _remove()_ können einzelen Elemente gezielt entfernt werden. Dabei wird jeweils das erste Vorkommen des Elements entfernt."
   ]
  },
  {
   "cell_type": "code",
   "execution_count": 47,
   "metadata": {},
   "outputs": [
    {
     "name": "stdout",
     "output_type": "stream",
     "text": [
      "[0, 1, 3, 4, 5]\n",
      "[1, 1, 2, 2]\n"
     ]
    }
   ],
   "source": [
    "liste = [0, 1, 2, 3, 4, 5]\n",
    "liste.remove(2)\n",
    "print(liste)\n",
    "\n",
    "liste = [2,1,1,2,2]\n",
    "liste.remove(2)\n",
    "print(liste)"
   ]
  },
  {
   "cell_type": "markdown",
   "metadata": {},
   "source": [
    "## Schleifen mit _for_"
   ]
  },
  {
   "cell_type": "markdown",
   "metadata": {},
   "source": [
    "Wenn die Anzahl der Schleifendurchgänge bereits im Voraus feststeht, spricht man von einer _Zählschleife_. Diese wird nicht mit **while** sondern mit **for** realisiert. In Python wird zu diesem Zweck eine Folge angegeben, die Element für Element durchlaufen wird:"
   ]
  },
  {
   "cell_type": "code",
   "execution_count": 48,
   "metadata": {},
   "outputs": [
    {
     "name": "stdout",
     "output_type": "stream",
     "text": [
      "three...\n",
      "two...\n",
      "one...\n",
      "zero...\n",
      "Ignition!\n"
     ]
    }
   ],
   "source": [
    "count = [\"zero\", \"one\", \"two\", \"three\"]\n",
    "count.reverse()\n",
    "for word in count:\n",
    "    print(\"{}...\".format(word))\n",
    "print(\"Ignition!\")"
   ]
  },
  {
   "cell_type": "markdown",
   "metadata": {},
   "source": [
    "Will man über längere Bereiche der natürlichen Zahlen iterieren, muss man nicht alle Zahlen in eine Liste tippen. Dafür gibt es die Funktion _range()_. Damit wird eine Liste erzeugt, die mit dem ersten Wert beginnt, und bei dem zweiten Wert -1 endet. Der erste Wert kann auch weggelassen werden. Dann beginnt die Liste bei 0."
   ]
  },
  {
   "cell_type": "code",
   "execution_count": 49,
   "metadata": {},
   "outputs": [
    {
     "name": "stdout",
     "output_type": "stream",
     "text": [
      "10 100\n",
      "11 121\n",
      "12 144\n",
      "13 169\n",
      "14 196\n",
      "15 225\n",
      "16 256\n",
      "17 289\n",
      "18 324\n",
      "19 361\n"
     ]
    }
   ],
   "source": [
    "for i in range(10,20):\n",
    "    print(i,i**2)"
   ]
  },
  {
   "cell_type": "markdown",
   "metadata": {},
   "source": [
    "## List Comprehensions und Tricks\n",
    "\n",
    "Oftmals möchte man aus einer Liste eine zweite Liste konstruieren.\n",
    "Mit den bisher kennen gelernten Methoden würde dies so aussehen:"
   ]
  },
  {
   "cell_type": "code",
   "execution_count": 50,
   "metadata": {},
   "outputs": [
    {
     "data": {
      "text/plain": [
       "[1, 4, 9, 16, 25, 36, 49, 64, 81, 100]"
      ]
     },
     "execution_count": 50,
     "metadata": {},
     "output_type": "execute_result"
    }
   ],
   "source": [
    "# Liste mit Quadratzahlen\n",
    "quadrate = []\n",
    "for i in range(1,11):\n",
    "    quadrate.append(i*i)\n",
    "quadrate"
   ]
  },
  {
   "cell_type": "markdown",
   "metadata": {},
   "source": [
    "In Python gibt es dafür eine elegantere Schreibweise, die dasselbe bewirkt:"
   ]
  },
  {
   "cell_type": "code",
   "execution_count": 51,
   "metadata": {},
   "outputs": [
    {
     "data": {
      "text/plain": [
       "[1, 4, 9, 16, 25, 36, 49, 64, 81, 100]"
      ]
     },
     "execution_count": 51,
     "metadata": {},
     "output_type": "execute_result"
    }
   ],
   "source": [
    "[i*i for i in range(1,11)]"
   ]
  },
  {
   "cell_type": "markdown",
   "metadata": {},
   "source": [
    "Natürlich kann über jegliche Folge iteriert werden:"
   ]
  },
  {
   "cell_type": "code",
   "execution_count": 52,
   "metadata": {},
   "outputs": [
    {
     "name": "stdout",
     "output_type": "stream",
     "text": [
      "alpha...bravo...charly...delta...echo\n"
     ]
    }
   ],
   "source": [
    "print(\"...\".join([name for name in [\"alpha\",\"bravo\",\"charly\",\"delta\",\"echo\"]]))"
   ]
  },
  {
   "cell_type": "markdown",
   "metadata": {},
   "source": [
    "Und es können Bedingungen gestellt werden:"
   ]
  },
  {
   "cell_type": "code",
   "execution_count": 53,
   "metadata": {},
   "outputs": [
    {
     "data": {
      "text/plain": [
       "[3, 6, 9, 12, 15, 18, 21, 24, 27]"
      ]
     },
     "execution_count": 53,
     "metadata": {},
     "output_type": "execute_result"
    }
   ],
   "source": [
    "[i for i in range(1,30) if i%3==0]"
   ]
  },
  {
   "cell_type": "markdown",
   "metadata": {},
   "source": [
    "Aus zwei Listen kann mit Hilfe der eingebauten Funktion _zip()_ eine einzige Liste erstellt werden, die aus Paaren besteht, von denen das erste Element aus der ersten Liste und das zweite Element aus der zweiten Liste stammt. Falls es kein korrespondierendes Element mehr gibt (d.h. die beiden Input-Listen ungleich lang sind), wird die Listenbildung beendet."
   ]
  },
  {
   "cell_type": "code",
   "execution_count": 54,
   "metadata": {},
   "outputs": [
    {
     "data": {
      "text/plain": [
       "[('A', 1), ('B', 2), ('C', 3)]"
      ]
     },
     "execution_count": 54,
     "metadata": {},
     "output_type": "execute_result"
    }
   ],
   "source": [
    "l1 = ['A','B','C','D']      \n",
    "l2 = [1,2,3]\n",
    "list(zip(l1,l2))"
   ]
  },
  {
   "cell_type": "markdown",
   "metadata": {},
   "source": [
    "In Kombination mit List Comprehensions kann damit das Skalarprodukt $\\mathbf{x}^T\\mathbf{y}$ sehr elegant formuliert werden:"
   ]
  },
  {
   "cell_type": "code",
   "execution_count": 55,
   "metadata": {},
   "outputs": [
    {
     "data": {
      "text/plain": [
       "3"
      ]
     },
     "execution_count": 55,
     "metadata": {},
     "output_type": "execute_result"
    }
   ],
   "source": [
    "x = (1,0,1)\n",
    "y = (2,1,1)\n",
    "sum([ x*y for x,y in zip(x,y)])"
   ]
  },
  {
   "cell_type": "markdown",
   "metadata": {},
   "source": [
    "# Funktionen"
   ]
  },
  {
   "cell_type": "markdown",
   "metadata": {},
   "source": [
    "## Einfache Funktionen\n",
    "\n",
    "Funktionen können als zusammengefasste Abläufe in einem Computerprogramm aufgefasst werden. Anstatt die Befehle erneut einzutippen (oder zu kopieren!) können sie unter dem Funktionsnamen abgelegt und somit wiederverwendet werden. Dies ist vor allem dann sinnvoll, wenn man auf Funktionsbibliotheken zurückgreifen will. Die Funktion ist dann eine Art _black box_, die es erlaubt, Funktionen zu benutzen, ohne die Programmierung zu kennen.\n",
    "\n",
    "Funktionen werden in Python mit dem **def** Kommando definiert und können dann unter dem definierten Namen mit nachfolgenden runden Klammern verwendet werden. Dabei ist es wichtig, dass das **def** Kommando _vor_ der ersten Verwendung der Funktion ausgeführt wird, da sonst die Funktion unbekannt ist!"
   ]
  },
  {
   "cell_type": "code",
   "execution_count": 56,
   "metadata": {},
   "outputs": [
    {
     "name": "stdout",
     "output_type": "stream",
     "text": [
      "Hallo Welt!\n"
     ]
    }
   ],
   "source": [
    "def hallo():\n",
    "    print(\"Hallo Welt!\")\n",
    "    \n",
    "hallo()"
   ]
  },
  {
   "cell_type": "markdown",
   "metadata": {},
   "source": [
    "| | |\n",
    "| :------ | :---------------------------------------------------------------------------------------------- |\n",
    "| ![light-bulb-48x48.png](light-bulb-48x48.png) | Der Name der Funktion ist wie bei Datenobjekten eine Referenz auf das Funktionsobjekt. Daher ist eine Zuweisung greeting=hallo erlaubt! Dann kann die Funktion auch mit dem Namen 'greeting' aufgerufen werden! "
   ]
  },
  {
   "cell_type": "markdown",
   "metadata": {},
   "source": [
    "## Parameter-Übergabe\n",
    "\n",
    "Funktionen werden erst dann interessant, wenn man ihnen Parameterwerte zur Verarbeitung übergeben kann. Diese werden einfach als Variablen zwischen den runden Klammern angegeben:"
   ]
  },
  {
   "cell_type": "code",
   "execution_count": 57,
   "metadata": {},
   "outputs": [
    {
     "name": "stdout",
     "output_type": "stream",
     "text": [
      "Hallo Leute!\n",
      "Hallo Ilja!\n"
     ]
    }
   ],
   "source": [
    "def hallo(name):\n",
    "    print(\"Hallo \" + name + \"!\")\n",
    "    \n",
    "hallo(\"Leute\")\n",
    "hallo(\"Ilja\")"
   ]
  },
  {
   "cell_type": "markdown",
   "metadata": {},
   "source": [
    "Berechnete Werte können auch aus der Funktion in das aufrufende Programm zurückgegeben werden. Dazu wird das Kommando **return** verwendet:"
   ]
  },
  {
   "cell_type": "code",
   "execution_count": 58,
   "metadata": {},
   "outputs": [
    {
     "data": {
      "text/plain": [
       "20"
      ]
     },
     "execution_count": 58,
     "metadata": {},
     "output_type": "execute_result"
    }
   ],
   "source": [
    "def mult(x,y):\n",
    "    return x*y\n",
    "\n",
    "mult(4,5)"
   ]
  },
  {
   "cell_type": "markdown",
   "metadata": {},
   "source": [
    "Bei einem Funktionsaufruf werden die zu verarbeitenden Parameter wie ein Tupel behandelt. Die Parameter werden kopiert und können dann in der Funktion beliebig verändert werden, ohne dass sich deren Wert in der aufrufenden Funktion ändert:"
   ]
  },
  {
   "cell_type": "code",
   "execution_count": 59,
   "metadata": {},
   "outputs": [
    {
     "name": "stdout",
     "output_type": "stream",
     "text": [
      "30\n",
      "5 6\n"
     ]
    }
   ],
   "source": [
    "def mult2(x,y):\n",
    "    z = x*y\n",
    "    x = x+1\n",
    "    y = y+1\n",
    "    return z\n",
    "\n",
    "(a,b) = (5,6)    \n",
    "print (mult(a,b))\n",
    "print (a,b)\n"
   ]
  },
  {
   "cell_type": "markdown",
   "metadata": {},
   "source": [
    "Die Parameter in der Funktionsdefinition werden _formale Parameter_ genannt. Ihre Werte werden beim Aufruf der Funktion von den _aktuellen Parametern_ kopiert. Im aufrufenden Programm können sogar dieselben Namen verwendet werden. Dies hat keine Auswirkung auf die Funktion. Allerdings gilt dies nur für einfache Datentypen. Wird eine Referenz übergeben, z.B. bei Listen, dann hat dies sehr wohl Auswirkungen auf das aufrufende Programm:"
   ]
  },
  {
   "cell_type": "code",
   "execution_count": 60,
   "metadata": {},
   "outputs": [
    {
     "name": "stdout",
     "output_type": "stream",
     "text": [
      "['Hund', 'Katze', 'Maus', 'Nochwas']\n"
     ]
    }
   ],
   "source": [
    "def listig(liste):\n",
    "    liste.append(\"Nochwas\")\n",
    "    \n",
    "l = [\"Hund\", \"Katze\",  \"Maus\"]\n",
    "listig(l)\n",
    "print(l)"
   ]
  },
  {
   "cell_type": "markdown",
   "metadata": {},
   "source": [
    "Die Zuordnung der Werte beim Funktionsaufruf geschieht in der Reihenfolge, in der sie angegeben werden. Man kann von der Reihenfolge abweichen, wenn man den Namen des formalen Parameters angibt:"
   ]
  },
  {
   "cell_type": "code",
   "execution_count": 61,
   "metadata": {},
   "outputs": [
    {
     "name": "stdout",
     "output_type": "stream",
     "text": [
      "Erst vier, dann fünf!\n",
      "Erst vier, dann fünf!\n"
     ]
    }
   ],
   "source": [
    "def reihe(eins,zwei):\n",
    "    print(\"Erst \" + eins + \", dann \" + zwei + \"!\")\n",
    "    \n",
    "reihe(\"vier\",\"fünf\")\n",
    "\n",
    "reihe(zwei=\"fünf\",eins=\"vier\")"
   ]
  },
  {
   "cell_type": "markdown",
   "metadata": {},
   "source": [
    "Bei Funktionen mit vielen Parametern ist es sinnvoll, Standardwerte anzugeben. Diese können dann beim Funktionsaufruf weggelassen werden. An ihre Stelle treten dann die Standardwerte."
   ]
  },
  {
   "cell_type": "code",
   "execution_count": 62,
   "metadata": {},
   "outputs": [
    {
     "name": "stdout",
     "output_type": "stream",
     "text": [
      "(1, 2)\n",
      "(7, 1)\n"
     ]
    }
   ],
   "source": [
    "def bruch (zaehler, nenner=1):\n",
    "    return (zaehler,nenner)\n",
    "    \n",
    "print(bruch(1,2))\n",
    "\n",
    "print(bruch(7))"
   ]
  },
  {
   "cell_type": "markdown",
   "metadata": {},
   "source": [
    "## Variable Parameteranzahl\n",
    "\n",
    "In Python können auch Funktionen mit einer variablen Anzahl von Parametern definiert werden. Dazu wird ein Parameter mit einem vorangestellten ** * ** definiert. Dieser sammelt alle zusätzlich angegebenen Parameter in einem Tupel:"
   ]
  },
  {
   "cell_type": "code",
   "execution_count": 63,
   "metadata": {},
   "outputs": [
    {
     "name": "stdout",
     "output_type": "stream",
     "text": [
      "a=1 b=2 c=()\n",
      "a=1 b=2 c=(3, 4)\n"
     ]
    }
   ],
   "source": [
    "def f(a,b,*args):\n",
    "    print(\"a={} b={} c={}\".format(a,b,args))\n",
    "\n",
    "f(1,2)\n",
    "f(1,2,3,4)"
   ]
  },
  {
   "cell_type": "markdown",
   "metadata": {},
   "source": [
    "# Datenstrukturen: Dictionaries und Mengen"
   ]
  },
  {
   "cell_type": "markdown",
   "metadata": {},
   "source": [
    "## Dictionaries\n",
    "\n",
    "Bei Folgen kann nur über den Index auf den Inhalt zugegriffen werden. Dieser Index muss eine ganze Zahl sein. Manchmal ist es aber sinnvoll, den Index mit einem anderen Typen zu definieren, z.B. einem String. Dann kann über den Namen auf ein Element zugegriffen werden. Dieser Name wird auch als _Schlüssel_ bezeichnet.\n",
    "\n",
    "Die Datenstruktur, die dies erlaubt, heißt _Dictionary_ und wird in Python mit geschweiften Klammern definiert:"
   ]
  },
  {
   "cell_type": "code",
   "execution_count": 64,
   "metadata": {},
   "outputs": [
    {
     "name": "stdout",
     "output_type": "stream",
     "text": [
      "{'Vorname': 'Max', 'Nachname': 'Mustermann', 'Geburtsjahr': 1975}\n"
     ]
    }
   ],
   "source": [
    "mustermann = { 'Vorname': \"Max\", 'Nachname' : \"Mustermann\", 'Geburtsjahr' : 1975}\n",
    "print(mustermann)"
   ]
  },
  {
   "cell_type": "code",
   "execution_count": 65,
   "metadata": {},
   "outputs": [
    {
     "data": {
      "text/plain": [
       "1975"
      ]
     },
     "execution_count": 65,
     "metadata": {},
     "output_type": "execute_result"
    }
   ],
   "source": [
    "mustermann['Geburtsjahr']"
   ]
  },
  {
   "cell_type": "code",
   "execution_count": 66,
   "metadata": {},
   "outputs": [
    {
     "data": {
      "text/plain": [
       "{'Geburtsjahr': 1976, 'Nachname': 'Mustermann', 'Vorname': 'Max'}"
      ]
     },
     "execution_count": 66,
     "metadata": {},
     "output_type": "execute_result"
    }
   ],
   "source": [
    "mustermann['Geburtsjahr'] += 1\n",
    "mustermann"
   ]
  },
  {
   "cell_type": "markdown",
   "metadata": {},
   "source": [
    "Listen und Dictionaries können ineinander verschachtelt werden:"
   ]
  },
  {
   "cell_type": "code",
   "execution_count": 67,
   "metadata": {},
   "outputs": [
    {
     "name": "stdout",
     "output_type": "stream",
     "text": [
      "Mustermann, Max\n",
      "Mustermann, Erika\n"
     ]
    }
   ],
   "source": [
    "musterfrau = { 'Vorname': \"Erika\", 'Nachname' : \"Mustermann\", 'Geburtsjahr' : 1964}\n",
    "liste = [mustermann, musterfrau]\n",
    "\n",
    "for elem in liste:\n",
    "    print(\"{}, {}\".format(elem['Nachname'],elem['Vorname']))"
   ]
  },
  {
   "cell_type": "markdown",
   "metadata": {},
   "source": [
    "Für Dictionaries gibt es eine Reihe von nützlichen Funktionen:"
   ]
  },
  {
   "cell_type": "code",
   "execution_count": 68,
   "metadata": {},
   "outputs": [
    {
     "name": "stdout",
     "output_type": "stream",
     "text": [
      "3\n",
      "OK\n",
      "{'Vorname': 'Max', 'Nachname': 'Mustermann', 'Geburtsjahr': 1976}\n",
      "{'Vorname': 'Max', 'Geburtsjahr': 1976}\n",
      "Max\n",
      "{'Geburtsjahr': 1976}\n",
      "{}\n"
     ]
    }
   ],
   "source": [
    "print (len(mustermann))         # Anzahl der Datenelemente im Dictionary\n",
    "\n",
    "if 'Geburtsjahr' in mustermann: # Schlüssel vorhanden?\n",
    "    print(\"OK\")\n",
    "else:\n",
    "    print(\"n.v.\")\n",
    "    \n",
    "muster = mustermann.copy()      # Dictionary kopieren\n",
    "print(muster)\n",
    "\n",
    "del muster['Nachname']          # Schlüssel löschen (Achtung: muss vorhanden sein!)\n",
    "print(muster)\n",
    "\n",
    "vorname = muster.pop('Vorname') # Element mit Schlüssel 'Vorname' löschen. pop() liefert\n",
    "                                # als Ergebnis den Wert des Elements und löscht dann\n",
    "print(vorname)\n",
    "print(muster)\n",
    "\n",
    "muster.clear()                  # Dictionary ganz leeren\n",
    "print(muster)"
   ]
  },
  {
   "cell_type": "markdown",
   "metadata": {},
   "source": [
    "Wenn der Schlüssel nicht vorhanden sein könnte, sollte die Funktion _get()_ verwendet werden. Sie liefert im Falle des Nichtvorhandenseins entweder den Wert **None** oder einen zuvor gesetzten Default-Wert"
   ]
  },
  {
   "cell_type": "code",
   "execution_count": 69,
   "metadata": {},
   "outputs": [
    {
     "name": "stdout",
     "output_type": "stream",
     "text": [
      "None\n"
     ]
    }
   ],
   "source": [
    "neujahr = { 'Jahr' : 2019 , 'Monat' : \"Januar\" }\n",
    "print(neujahr.get('Tag'))"
   ]
  },
  {
   "cell_type": "code",
   "execution_count": 70,
   "metadata": {},
   "outputs": [
    {
     "name": "stdout",
     "output_type": "stream",
     "text": [
      "1\n"
     ]
    }
   ],
   "source": [
    "neujahr.setdefault('Tag',1)\n",
    "print(neujahr.get('Tag'))"
   ]
  },
  {
   "cell_type": "code",
   "execution_count": 71,
   "metadata": {},
   "outputs": [
    {
     "name": "stdout",
     "output_type": "stream",
     "text": [
      "{'Jahr': 2019, 'Monat': 'Januar', 'Tag': 1}\n"
     ]
    }
   ],
   "source": [
    "neujahr['Tag'] = 1\n",
    "print(neujahr)"
   ]
  },
  {
   "cell_type": "markdown",
   "metadata": {},
   "source": [
    "Über Dictionaries kann natürlich ebenfalls iteriert werden:"
   ]
  },
  {
   "cell_type": "code",
   "execution_count": 72,
   "metadata": {},
   "outputs": [
    {
     "name": "stdout",
     "output_type": "stream",
     "text": [
      "Jahr\n",
      "Monat\n",
      "Tag\n"
     ]
    }
   ],
   "source": [
    "for k in neujahr:\n",
    "    print(k)"
   ]
  },
  {
   "cell_type": "markdown",
   "metadata": {},
   "source": [
    "Mit Hilfe von Dictionaries können Funktionen mit variabler Parameterzahl definiert werden, deren Parameter _Namen_ haben. Die Zuordnung ist dabei wie folgt: Zunächst werden die obligatorischen Parameter zugewiesen. Falls dann noch Parameter übrig sind, werden sie dem Tupel *args* zugewiesen. Schließlich können noch Parameter mit name=wert angegeben werden. Sie werden im Dictionary *kwargs* gespeichert."
   ]
  },
  {
   "cell_type": "code",
   "execution_count": 24,
   "metadata": {},
   "outputs": [
    {
     "name": "stdout",
     "output_type": "stream",
     "text": [
      "a=1 b=2 c=() d={}\n",
      "a=1 b=2 c=(3, 4) d={}\n",
      "a=1 b=2 c=() d={'zahl': 4, 'test': 5}\n"
     ]
    }
   ],
   "source": [
    "def f2(a,b,*args,**kwargs):\n",
    "    print(\"a={} b={} c={} d={}\".format(a,b,args,kwargs))\n",
    "\n",
    "f2(1,2)\n",
    "f2(1,2,3,4)\n",
    "f2(1,2,zahl=4,test=5)"
   ]
  },
  {
   "cell_type": "markdown",
   "metadata": {},
   "source": [
    "## Mengen\n",
    "\n",
    "Das mathematische Konstrukt der _Menge_ ist auch in Python verfügbar. Dabei handelt es sich um eine ungeordnete Sammlung von Objekten, in der jedes Objekt nur einmal vorkommen darf. Analog zu Tupeln und Listen gibt es veränderbare Mengen und nicht veränderbare Mengen.\n",
    "\n",
    "Eine veränderbare Menge kann mit geschweiften Klammern erzeugt werden:"
   ]
  },
  {
   "cell_type": "code",
   "execution_count": 7,
   "metadata": {},
   "outputs": [
    {
     "data": {
      "text/plain": [
       "{'apple', 'melon', 'pear'}"
      ]
     },
     "execution_count": 7,
     "metadata": {},
     "output_type": "execute_result"
    }
   ],
   "source": [
    "fruit = {'apple','pear','melon','apple'}\n",
    "fruit"
   ]
  },
  {
   "cell_type": "markdown",
   "metadata": {},
   "source": [
    "Alternativ kann die Menge mit _set()_ und einem Tupel erzeugt werden:"
   ]
  },
  {
   "cell_type": "code",
   "execution_count": 8,
   "metadata": {},
   "outputs": [
    {
     "data": {
      "text/plain": [
       "{'apple', 'melon', 'pear'}"
      ]
     },
     "execution_count": 8,
     "metadata": {},
     "output_type": "execute_result"
    }
   ],
   "source": [
    "fruit = set(('apple','pear','melon'))\n",
    "fruit"
   ]
  },
  {
   "cell_type": "markdown",
   "metadata": {},
   "source": [
    "Eine nicht-veränderbare Menge kann nur mit _frozenset()_ und einem Tupel erzeugt werden."
   ]
  },
  {
   "cell_type": "code",
   "execution_count": 9,
   "metadata": {},
   "outputs": [
    {
     "data": {
      "text/plain": [
       "frozenset({'banana', 'orange'})"
      ]
     },
     "execution_count": 9,
     "metadata": {},
     "output_type": "execute_result"
    }
   ],
   "source": [
    "immutable_fruit = frozenset(('banana','orange'))\n",
    "immutable_fruit"
   ]
  },
  {
   "cell_type": "markdown",
   "metadata": {},
   "source": [
    "Die gängigen mathematischen Operationen auf Mengen wie Schnittmengenbildung und Vereinigung sind in Python verwendbar:"
   ]
  },
  {
   "cell_type": "code",
   "execution_count": 10,
   "metadata": {},
   "outputs": [
    {
     "data": {
      "text/plain": [
       "{'pear'}"
      ]
     },
     "execution_count": 10,
     "metadata": {},
     "output_type": "execute_result"
    }
   ],
   "source": [
    "fruit2 = {'raisin','pineapple','pear'}\n",
    "fruit2.intersection(fruit)"
   ]
  },
  {
   "cell_type": "code",
   "execution_count": 11,
   "metadata": {},
   "outputs": [
    {
     "data": {
      "text/plain": [
       "{'apple', 'melon', 'pear', 'pineapple', 'raisin'}"
      ]
     },
     "execution_count": 11,
     "metadata": {},
     "output_type": "execute_result"
    }
   ],
   "source": [
    "fruit2.union(fruit)"
   ]
  },
  {
   "cell_type": "markdown",
   "metadata": {},
   "source": [
    "Auch logische Test sind vorhanden:"
   ]
  },
  {
   "cell_type": "code",
   "execution_count": 12,
   "metadata": {},
   "outputs": [
    {
     "data": {
      "text/plain": [
       "True"
      ]
     },
     "execution_count": 12,
     "metadata": {},
     "output_type": "execute_result"
    }
   ],
   "source": [
    "'apple' in fruit            # ist apple Element in fruit?"
   ]
  },
  {
   "cell_type": "code",
   "execution_count": 13,
   "metadata": {},
   "outputs": [
    {
     "data": {
      "text/plain": [
       "False"
      ]
     },
     "execution_count": 13,
     "metadata": {},
     "output_type": "execute_result"
    }
   ],
   "source": [
    "fruit.isdisjoint(fruit2)    # sind die Mengen disjunkt?"
   ]
  },
  {
   "cell_type": "code",
   "execution_count": 14,
   "metadata": {},
   "outputs": [
    {
     "data": {
      "text/plain": [
       "False"
      ]
     },
     "execution_count": 14,
     "metadata": {},
     "output_type": "execute_result"
    }
   ],
   "source": [
    "fruit.issubset(fruit2)      # ist fruit Teilmenge von fruit2?"
   ]
  },
  {
   "cell_type": "markdown",
   "metadata": {},
   "source": [
    "Elemente können mit _add()_ hinzugefügt und mit _remove()_ oder _discard()_ wieder entfernt werden"
   ]
  },
  {
   "cell_type": "code",
   "execution_count": 15,
   "metadata": {},
   "outputs": [
    {
     "data": {
      "text/plain": [
       "{'apple', 'melon', 'pear', 'raspberry'}"
      ]
     },
     "execution_count": 15,
     "metadata": {},
     "output_type": "execute_result"
    }
   ],
   "source": [
    "fruit = {'apple','pear','melon'}\n",
    "fruit.add('raspberry')\n",
    "fruit"
   ]
  },
  {
   "cell_type": "code",
   "execution_count": 16,
   "metadata": {},
   "outputs": [
    {
     "data": {
      "text/plain": [
       "{'melon', 'pear', 'raspberry'}"
      ]
     },
     "execution_count": 16,
     "metadata": {},
     "output_type": "execute_result"
    }
   ],
   "source": [
    "fruit.remove('apple')              # liefert KeyError, wenn 'apple' nicht mehr vorhanden\n",
    "fruit"
   ]
  },
  {
   "cell_type": "code",
   "execution_count": 17,
   "metadata": {},
   "outputs": [
    {
     "data": {
      "text/plain": [
       "{'melon', 'pear', 'raspberry'}"
      ]
     },
     "execution_count": 17,
     "metadata": {},
     "output_type": "execute_result"
    }
   ],
   "source": [
    "fruit.discard('apple')              # liefert keinen KeyError\n",
    "fruit"
   ]
  },
  {
   "cell_type": "markdown",
   "metadata": {},
   "source": [
    "Wenn man in nicht-veränderbaren Mengen etwas hinzufügen oder löschen möchte, gibt es natürlich Ärger:"
   ]
  },
  {
   "cell_type": "code",
   "execution_count": 18,
   "metadata": {},
   "outputs": [
    {
     "ename": "AttributeError",
     "evalue": "'frozenset' object has no attribute 'add'",
     "output_type": "error",
     "traceback": [
      "\u001b[0;31m---------------------------------------------------------------------------\u001b[0m",
      "\u001b[0;31mAttributeError\u001b[0m                            Traceback (most recent call last)",
      "\u001b[0;32m<ipython-input-18-a6218852eb62>\u001b[0m in \u001b[0;36m<module>\u001b[0;34m()\u001b[0m\n\u001b[0;32m----> 1\u001b[0;31m \u001b[0mimmutable_fruit\u001b[0m\u001b[0;34m.\u001b[0m\u001b[0madd\u001b[0m\u001b[0;34m(\u001b[0m\u001b[0;34m'raspberry'\u001b[0m\u001b[0;34m)\u001b[0m\u001b[0;34m\u001b[0m\u001b[0m\n\u001b[0m",
      "\u001b[0;31mAttributeError\u001b[0m: 'frozenset' object has no attribute 'add'"
     ]
    }
   ],
   "source": [
    "immutable_fruit.add('raspberry')"
   ]
  },
  {
   "cell_type": "markdown",
   "metadata": {},
   "source": [
    "# Module\n"
   ]
  },
  {
   "cell_type": "markdown",
   "metadata": {},
   "source": [
    "Der Python-Interpreter kennt nur Definitionen (d.h. Funktionen, Variablen), die bereits eingetippt und interpretiert wurden. Meist möchte man Funktionen aber wiederverwenden. In Python ist dies möglich, indem man den Programmtext in eine Datei schreibt. Die Datei nennt sich _Modul_.\n",
    "\n",
    "Beispiel: Wir definieren die Funktion _fib()_ und schreiben sie in die Datei 'fibo.py':\n",
    "\n",
    "```python\n",
    "# Modul Fibonacci Zahlen\n",
    "def fib(n):    # gebe die Fibonacci Zahlen bis n aus\n",
    "    a, b = 0, 1\n",
    "    while b < n:\n",
    "        print(b, end=' ')\n",
    "        a, b = b, a+b\n",
    "    print()\n",
    "```"
   ]
  },
  {
   "cell_type": "markdown",
   "metadata": {},
   "source": [
    "Die Definitionen aus dem Modul können mit Hilfe des Kommandos **import** geladen, und anschließend verwendet werden."
   ]
  },
  {
   "cell_type": "code",
   "execution_count": 19,
   "metadata": {},
   "outputs": [
    {
     "name": "stdout",
     "output_type": "stream",
     "text": [
      "1 1 2 3 5 8 13 \n"
     ]
    }
   ],
   "source": [
    "import fibo                 # lade Modul\n",
    "\n",
    "fibo.fib(21)                # verwende Funktion fib() aus dem Modul fibo"
   ]
  },
  {
   "cell_type": "markdown",
   "metadata": {},
   "source": [
    "| | |\n",
    "| :------ | :---------------------------------------------------------------------------------------------- |\n",
    "| ![light-bulb-48x48.png](light-bulb-48x48.png) | Aus Effizienzgründen werden Module nur ein einziges Mal geladen. Bei Veränderungen am Quellcode des Moduls muss der Interpreter neu gestartet werden. |"
   ]
  },
  {
   "cell_type": "markdown",
   "metadata": {},
   "source": [
    "Nicht nur Funktionen, sondern auch Variable können geladen werden.\n",
    "\n",
    "Beispiel: Wir definieren folgende Variablen in der Datei 'cheese.py':\n",
    "```python\n",
    "# Liste mit Käsesorten\n",
    "sorts = [ \"Emmentaler\" , \"Camembert\" , \"Bergkäse\" ]\n",
    "\n",
    "# Sorten mit Herkunft\n",
    "sorts_origin = { 'Emmentaler' : 'Schweiz', 'Camembert' : 'Frankreich', 'Bergkäse' : 'Deutschland' }\n",
    "```"
   ]
  },
  {
   "cell_type": "code",
   "execution_count": 20,
   "metadata": {},
   "outputs": [
    {
     "name": "stdout",
     "output_type": "stream",
     "text": [
      "Schweiz\n"
     ]
    }
   ],
   "source": [
    "import cheese\n",
    "\n",
    "print(cheese.sorts_origin['Emmentaler'])"
   ]
  },
  {
   "cell_type": "markdown",
   "metadata": {},
   "source": [
    "Mit Hilfe des **import** Kommandos werden _alle_ Definitionen des entsprechenden Moduls geladen. Möchte man nur bestimmte Definitionen laden, kann man dies mit dem Schlüsselwort **from** erreichen. In diesem Fall kann man auch auf den Modulnamen vor dem Namen verzichten, (sofern der Name im aktuellen Kontext eindeutig ist):"
   ]
  },
  {
   "cell_type": "code",
   "execution_count": 21,
   "metadata": {},
   "outputs": [
    {
     "name": "stdout",
     "output_type": "stream",
     "text": [
      "['Emmentaler', 'Camembert', 'Bergkäse']\n",
      "['Emmentaler', 'Camembert', 'Bergkäse']\n"
     ]
    }
   ],
   "source": [
    "from cheese import sorts\n",
    "print(cheese.sorts)\n",
    "print(sorts)                  # Modulname nicht notwendig"
   ]
  },
  {
   "cell_type": "markdown",
   "metadata": {},
   "source": [
    "Eine weitere Möglichkeit besteht darin, statt des Modulnamens  einen Stern (\\*) als Wildcard anzugeben. In diesem Falle werden alle Definitionen aus dem Modul geladen, die nicht mit einem Unterstrich beginnen. Auf diese Art und Weise können Funktionen und Variablen in einem Modul definiert werden, die nicht für den externen Gebrauch vorgesehen sind."
   ]
  },
  {
   "cell_type": "code",
   "execution_count": 22,
   "metadata": {},
   "outputs": [
    {
     "name": "stdout",
     "output_type": "stream",
     "text": [
      "{'Emmentaler': 'Schweiz', 'Camembert': 'Frankreich', 'Bergkäse': 'Deutschland'}\n"
     ]
    }
   ],
   "source": [
    "from cheese import *\n",
    "\n",
    "print(sorts_origin)"
   ]
  },
  {
   "cell_type": "markdown",
   "metadata": {},
   "source": [
    "# Objektorientierte Programmierung\n"
   ]
  },
  {
   "cell_type": "markdown",
   "metadata": {},
   "source": [
    "## Klassen, Attribute und Methoden\n",
    "\n",
    "Datenstrukturen und Funktionen sind meist sehr eng miteinander verbunden: Viele Funktionen werden nur für die zugehörigen Datenstrukturen geschrieben. Was liegt da näher, als beide in ein gemeinsames Konstrukt zusammenzulegen? Das entstandene Gebilde heißt dann _Klasse_. Die Datenelemente der Klasse heißen _Attribute_, die Funktionen in einer Klasse werden _Methoden_ genannt. \n",
    "\n",
    "Zur Definition einer Klasse wird in Python das Kommandowort **class** verwendet. Methoden werden wie normale Funktionen mit **def** innerhalb der Klasse definiert. Der erste Parameter einer Methode ist immer eine Referenz auf das Objekt selbst. Der Name ist frei wählbar, als Konvention wird meist _self_ als Name verwendet."
   ]
  },
  {
   "cell_type": "code",
   "execution_count": 23,
   "metadata": {},
   "outputs": [],
   "source": [
    "class Animal:\n",
    "    def define(self, species, name):\n",
    "        self.species = species\n",
    "        self.name = name\n",
    "    def describe(self):\n",
    "        print(\"{} ist ein {}\".format(self.name, self.species))"
   ]
  },
  {
   "cell_type": "markdown",
   "metadata": {},
   "source": [
    "Variablen, die aus einer Klasse erzeugt werden, nennt man _Instanzen_ oder _Objekte_. Sie erhält man, indem man den Klassennamen, gefolgt von runden Klammern angibt, d.h. den Klassennamen als Funktionsaufruf verwendet:"
   ]
  },
  {
   "cell_type": "code",
   "execution_count": 24,
   "metadata": {},
   "outputs": [
    {
     "name": "stdout",
     "output_type": "stream",
     "text": [
      "Felix ist ein Kater\n"
     ]
    }
   ],
   "source": [
    "a1 = Animal()\n",
    "a1.define(\"Kater\",\"Felix\")\n",
    "a1.describe()"
   ]
  },
  {
   "cell_type": "markdown",
   "metadata": {},
   "source": [
    "Methoden unterscheiden sich von normalen Funktionen dadurch, dass man den Instanznamen, gefolgt von einem . , angibt. Auf dieselbe Art und Weise kann man auch auf Attribute zugreifen:"
   ]
  },
  {
   "cell_type": "code",
   "execution_count": 25,
   "metadata": {},
   "outputs": [
    {
     "name": "stdout",
     "output_type": "stream",
     "text": [
      "Carlo ist ein Kater\n"
     ]
    }
   ],
   "source": [
    "a1.name=\"Carlo\"\n",
    "a1.describe()"
   ]
  },
  {
   "cell_type": "markdown",
   "metadata": {},
   "source": [
    "| | |\n",
    "| :------ | :---------------------------------------------------------------------------------------------- |\n",
    "| ![light-bulb-48x48.png](light-bulb-48x48.png) | Es ist aber nicht ratsam, **direkt** auf die **Attribute** einer Klasse zuzugreifen. Sie sind wichtig für das Funktionieren einer Klasse und ihr Name kann vom Autor der Klasse beliebig geändert werden. Besser ist es, sich nur auf die _offiziellen_ Methoden der Klasse (d.h. die dokumentierten) zu konzentrieren. Diese Methoden werden _Schnittstelle_ genannt. Wenn man verhindern möchte, dass die eigenen Programme plötzlich nicht mehr funktionieren, sollte man sich nur auf Methoden der Schnittstelle beschränken."
   ]
  },
  {
   "cell_type": "markdown",
   "metadata": {},
   "source": [
    "Klassen und Funktionen können mit Hilfe von drei aufeinanderfolgenden Anführungszeichen kommentiert werden. Das Ergebnis ist dann mit dem Spezial-Attribut \\_\\__doc_\\_\\_ abrufbar:"
   ]
  },
  {
   "cell_type": "code",
   "execution_count": 9,
   "metadata": {},
   "outputs": [
    {
     "name": "stdout",
     "output_type": "stream",
     "text": [
      "Diese Klasse dient nur zur Dokumentation\n",
      "Diese Methode tut nichts\n"
     ]
    }
   ],
   "source": [
    "class WellDocumented:\n",
    "    \"\"\"Diese Klasse dient nur zur Dokumentation\"\"\"\n",
    "    def oneMethod():\n",
    "        \"\"\"Diese Methode tut nichts\"\"\"\n",
    "        pass\n",
    "    \n",
    "w = WellDocumented()\n",
    "print(w.__doc__)\n",
    "print(w.oneMethod.__doc__)"
   ]
  },
  {
   "cell_type": "markdown",
   "metadata": {},
   "source": [
    "## Konstruktoren \n",
    "\n",
    "Die Attribute einer Klasse sind zunächst uninitialisiert. Wenn man sie trotzdem verwendet, gibt es einen Fehler:"
   ]
  },
  {
   "cell_type": "code",
   "execution_count": 26,
   "metadata": {},
   "outputs": [
    {
     "ename": "AttributeError",
     "evalue": "'Animal' object has no attribute 'name'",
     "output_type": "error",
     "traceback": [
      "\u001b[0;31m---------------------------------------------------------------------------\u001b[0m",
      "\u001b[0;31mAttributeError\u001b[0m                            Traceback (most recent call last)",
      "\u001b[0;32m<ipython-input-26-a81eed73892b>\u001b[0m in \u001b[0;36m<module>\u001b[0;34m()\u001b[0m\n\u001b[1;32m      1\u001b[0m \u001b[0ma2\u001b[0m \u001b[0;34m=\u001b[0m \u001b[0mAnimal\u001b[0m\u001b[0;34m(\u001b[0m\u001b[0;34m)\u001b[0m\u001b[0;34m\u001b[0m\u001b[0m\n\u001b[0;32m----> 2\u001b[0;31m \u001b[0ma2\u001b[0m\u001b[0;34m.\u001b[0m\u001b[0mdescribe\u001b[0m\u001b[0;34m(\u001b[0m\u001b[0;34m)\u001b[0m\u001b[0;34m\u001b[0m\u001b[0m\n\u001b[0m",
      "\u001b[0;32m<ipython-input-23-b0232ea663e0>\u001b[0m in \u001b[0;36mdescribe\u001b[0;34m(self)\u001b[0m\n\u001b[1;32m      4\u001b[0m         \u001b[0mself\u001b[0m\u001b[0;34m.\u001b[0m\u001b[0mname\u001b[0m \u001b[0;34m=\u001b[0m \u001b[0mname\u001b[0m\u001b[0;34m\u001b[0m\u001b[0m\n\u001b[1;32m      5\u001b[0m     \u001b[0;32mdef\u001b[0m \u001b[0mdescribe\u001b[0m\u001b[0;34m(\u001b[0m\u001b[0mself\u001b[0m\u001b[0;34m)\u001b[0m\u001b[0;34m:\u001b[0m\u001b[0;34m\u001b[0m\u001b[0m\n\u001b[0;32m----> 6\u001b[0;31m         \u001b[0mprint\u001b[0m\u001b[0;34m(\u001b[0m\u001b[0;34m\"{} ist ein {}\"\u001b[0m\u001b[0;34m.\u001b[0m\u001b[0mformat\u001b[0m\u001b[0;34m(\u001b[0m\u001b[0mself\u001b[0m\u001b[0;34m.\u001b[0m\u001b[0mname\u001b[0m\u001b[0;34m,\u001b[0m \u001b[0mself\u001b[0m\u001b[0;34m.\u001b[0m\u001b[0mspecies\u001b[0m\u001b[0;34m)\u001b[0m\u001b[0;34m)\u001b[0m\u001b[0;34m\u001b[0m\u001b[0m\n\u001b[0m",
      "\u001b[0;31mAttributeError\u001b[0m: 'Animal' object has no attribute 'name'"
     ]
    }
   ],
   "source": [
    "a2 = Animal()\n",
    "a2.describe()"
   ]
  },
  {
   "cell_type": "markdown",
   "metadata": {},
   "source": [
    "Als erste Abhilfe können Standardwerte definiert werden."
   ]
  },
  {
   "cell_type": "code",
   "execution_count": 27,
   "metadata": {},
   "outputs": [
    {
     "name": "stdout",
     "output_type": "stream",
     "text": [
      "unbekannt ist ein Tier\n"
     ]
    }
   ],
   "source": [
    "class Animal:\n",
    "    species = \"Tier\"\n",
    "    name = \"unbekannt\"\n",
    "    def define(self, species, name):\n",
    "        self.species = species\n",
    "        self.name = name\n",
    "    def describe(self):\n",
    "        print(\"{} ist ein {}\".format(self.name, self.species))\n",
    "        \n",
    "\n",
    "a2 = Animal()\n",
    "a2.describe()"
   ]
  },
  {
   "cell_type": "markdown",
   "metadata": {},
   "source": [
    "Jetzt müssen aber immer noch zwei Funktionen verwendet werden, um die Daten zu belegen. Mit Hilfe des _Konstruktors_ kann dies in einem Aufwasch erledigt werden. Dazu müssen wir eine Methode mit dem Namen \\_\\_init\\_\\_() definieren, die dann automatisch beim Erzeugen des Objekts aufgerufen wird:"
   ]
  },
  {
   "cell_type": "code",
   "execution_count": 28,
   "metadata": {},
   "outputs": [],
   "source": [
    "class Animal:\n",
    "    species = \"Tier\"\n",
    "    name = \"unbekannt\"\n",
    "    def __init__(self, species, name):\n",
    "        self.define(species, name)\n",
    "    def define(self, species, name):\n",
    "        self.species = species\n",
    "        self.name = name\n",
    "    def describe(self):\n",
    "        print(\"{} ist ein {}\".format(self.name, self.species))\n",
    "        "
   ]
  },
  {
   "cell_type": "markdown",
   "metadata": {},
   "source": [
    "Jetzt lässt sich ein Objekt erzeugen und gleichzeitig initialisieren. Die Parameter der \\_\\_init\\_\\_()-Funktion sind identisch mit den Parametern, die in Klammern hinter dem Klassennamen angegeben werden."
   ]
  },
  {
   "cell_type": "code",
   "execution_count": 29,
   "metadata": {},
   "outputs": [
    {
     "name": "stdout",
     "output_type": "stream",
     "text": [
      "Fury ist ein Pferd\n"
     ]
    }
   ],
   "source": [
    "a3 = Animal(\"Pferd\",\"Fury\")\n",
    "a3.describe()"
   ]
  },
  {
   "cell_type": "markdown",
   "metadata": {},
   "source": [
    "An dieser Stelle empfiehlt es sich, den Konstruktor mit einer variablen Anzahl von Parametern auszustatten. Dies wird im Zusammenahng mit Vererbung noch nützlich sein. Die Definition des Konstruktors sieht dann wie folgt aus:"
   ]
  },
  {
   "cell_type": "code",
   "execution_count": 2,
   "metadata": {},
   "outputs": [],
   "source": [
    "class Animal:\n",
    "    species = \"Tier\"\n",
    "    name = \"unbekannt\"\n",
    "    def __init__(self, *args, **kwargs):\n",
    "        if 'name' in kwargs: self.name = kwargs['name']\n",
    "        if 'species' in kwargs: self.species = kwargs['species']\n",
    "    def define(self, species, name):\n",
    "        self.species = species\n",
    "        self.name = name\n",
    "    def describe(self):\n",
    "        print(\"{} ist ein {}\".format(self.name, self.species))"
   ]
  },
  {
   "cell_type": "markdown",
   "metadata": {},
   "source": [
    "## Destruktoren \n",
    "\n",
    "Objekte können mit dem Kommando **del** gelöscht werden. Python entscheidet dann selbständig, wann der Speicherplatz freigegeben werden kann. Falls spezielle Aktionen vor dem Löschen notwendig sind (z.B Löschen von erzeugten Dateien), kann man eine spezielle Methode \\_\\_del()\\_\\_ definieren, die dann automatisch aufgerufen wird."
   ]
  },
  {
   "cell_type": "code",
   "execution_count": 2,
   "metadata": {},
   "outputs": [
    {
     "name": "stdout",
     "output_type": "stream",
     "text": [
      "Cup contains 200 ml liquid\n",
      "Cup destroyed\n"
     ]
    }
   ],
   "source": [
    "class Teacup:\n",
    "    size = 0\n",
    "    content = 0\n",
    "    def __init__(self,size=200,content=0):\n",
    "        self.size=size\n",
    "        self.fill(content)\n",
    "    def fill(self,howmuch):\n",
    "        self.content += howmuch\n",
    "        if self.content > self.size:\n",
    "            self.content = self.size    # content cannot exceed size! no extra storage available!\n",
    "    def currentStatus(self):\n",
    "        print(\"Cup contains {} ml liquid\".format(self.content))\n",
    "    def __del__(self):\n",
    "        print(\"Cup destroyed\")\n",
    "        \n",
    "cup = Teacup()\n",
    "cup.fill(300)\n",
    "cup.currentStatus()\n",
    "del cup"
   ]
  },
  {
   "cell_type": "markdown",
   "metadata": {},
   "source": [
    "Der Destruktor wird erst dann aufgerufen, wenn keine Referenz mehr existiert!"
   ]
  },
  {
   "cell_type": "code",
   "execution_count": 3,
   "metadata": {},
   "outputs": [
    {
     "name": "stdout",
     "output_type": "stream",
     "text": [
      "Cup contains 0 ml liquid\n",
      "Cup destroyed\n"
     ]
    }
   ],
   "source": [
    "cup = Teacup()\n",
    "cup2 = cup\n",
    "del cup                      # Zugriff über cup nicht mehr möglich, Objekt existiert aber noch\n",
    "cup2.currentStatus()\n",
    "del cup2                     # Erst jetzt wird der Destruktor aufgerufen"
   ]
  },
  {
   "cell_type": "markdown",
   "metadata": {},
   "source": [
    "## Vererbung\n",
    "\n",
    "Vererbung ist ein wichtiger Mechanismus in der Objektorientierten Programmierung. Er erlaubt es, Programme differentiell zu entwickeln, indem man gemeinsame Eigenschaften von Objekten in einer _Oberklasse_ definiert, und in den  abgeleiteten Klassen nur noch die Unterschiede zur Oberklasse formuliert.\n",
    "\n",
    "Vererbung in Python wird dadurch definiert, dass man in der Klassendefinition hinter dem Klassennamen die Oberklasse in Klammern angibt. "
   ]
  },
  {
   "cell_type": "code",
   "execution_count": 4,
   "metadata": {},
   "outputs": [
    {
     "name": "stdout",
     "output_type": "stream",
     "text": [
      "Tweety ist ein Vogel\n",
      "und hat 2 Flügel\n"
     ]
    }
   ],
   "source": [
    "class Bird (Animal):\n",
    "    wings = 2\n",
    "    def describe(self):\n",
    "        Animal.describe(self)\n",
    "        print(\"und hat {} Flügel\".format(self.wings))\n",
    "\n",
    "tweety = Bird(name=\"Tweety\",species=\"Vogel\")\n",
    "tweety.describe()"
   ]
  },
  {
   "cell_type": "markdown",
   "metadata": {},
   "source": [
    "Will man die Objekte richtig initialisieren, sollte man den Oberklassen-Konstruktor verwenden:"
   ]
  },
  {
   "cell_type": "code",
   "execution_count": 3,
   "metadata": {},
   "outputs": [],
   "source": [
    "class Bird (Animal):\n",
    "    wings = 2\n",
    "    def __init__(self, *args, **kwargs):\n",
    "        Animal.__init__(*args, **kwargs)\n",
    "        if 'wings' in kwargs: self.wings = kwargs['wings']\n",
    "    def describe(self):\n",
    "        Animal.describe(self)\n",
    "        print(\"und hat {} Flügel\".format(self.wings))"
   ]
  },
  {
   "cell_type": "code",
   "execution_count": 6,
   "metadata": {},
   "outputs": [
    {
     "name": "stdout",
     "output_type": "stream",
     "text": [
      "Tweety ist ein Vogel\n",
      "und hat 2 Flügel\n"
     ]
    }
   ],
   "source": [
    "tweety = Bird(name=\"Tweety\",species=\"Vogel\",wings=2)\n",
    "tweety.describe()"
   ]
  },
  {
   "cell_type": "markdown",
   "metadata": {},
   "source": [
    "Noch besser ist es, wenn man statt der expliziten Angabe der Oberklasse _Animal_ die Funktion _super()_ verwendet. Auf diese Weise können später noch Klassen zwischen die Klassen _Animal_ und _Bird_ geschoben werden und die _Bird_-Klasse verwendet immer die jeweils richtige aktuelle Oberklasse."
   ]
  },
  {
   "cell_type": "code",
   "execution_count": 6,
   "metadata": {},
   "outputs": [],
   "source": [
    "class Bird (Animal):\n",
    "    wings = 2\n",
    "    def __init__(self, *args, **kwargs):\n",
    "        super().__init__(*args, **kwargs)                        # direkte \n",
    "        if 'wings' in kwargs: self.wings = kwargs['wings']\n",
    "    def describe(self):\n",
    "        super().describe()\n",
    "        print(\"und hat {} Flügel\".format(self.wings))"
   ]
  },
  {
   "cell_type": "code",
   "execution_count": 7,
   "metadata": {},
   "outputs": [
    {
     "name": "stdout",
     "output_type": "stream",
     "text": [
      "Tweety ist ein Vogel\n",
      "und hat 2 Flügel\n"
     ]
    }
   ],
   "source": [
    "tweety = Bird(name=\"Tweety\",species=\"Vogel\",wings=2)\n",
    "tweety.describe()"
   ]
  },
  {
   "cell_type": "markdown",
   "metadata": {},
   "source": [
    "## Mehrfachvererbung"
   ]
  },
  {
   "cell_type": "markdown",
   "metadata": {},
   "source": [
    "Statt einer Klasse, können auch mehrere Klassen, jeweils mit Komma getrennt als Oberklassen angegeben werden. Dies wird  _Mehrfachvererbung_ genannt. Mehrfachvererbung ist aber nur sehr wohldosiert zu verwenden, da man sonst sehr schnell zu Klassendefinitionen kommt, die der berühmten \"eierlegenden Wollmilchsau\" entsprechen: Viele Eigenschaften werden in einer Klasse zusamengefasst, die nur sehr schwer zu überschauen sind. Besser ist es, die Oberklassen auf ganz bestimmte Eigenschaften zu beschränken und bei Bedarf in eine Klasse zu übernehmen. Dies wird auch _Mixin-Vererbung_ genannt:"
   ]
  },
  {
   "cell_type": "code",
   "execution_count": 8,
   "metadata": {},
   "outputs": [
    {
     "name": "stdout",
     "output_type": "stream",
     "text": [
      "Tweety fliegt!\n"
     ]
    }
   ],
   "source": [
    "class FlightCapable:\n",
    "    def fly(self):\n",
    "        print(\"{} fliegt!\".format(self.name))\n",
    "        \n",
    "class Bird(Animal,FlightCapable):\n",
    "    wings = 2\n",
    "    def __init__(self, *args, **kwargs):\n",
    "        super().__init__(*args, **kwargs)                        # direkte \n",
    "        if 'wings' in kwargs: self.wings = kwargs['wings']\n",
    "    def describe(self):\n",
    "        super().describe()\n",
    "        print(\"und hat {} Flügel\".format(self.wings))\n",
    "        \n",
    "tweety = Bird(name=\"Tweety\",species=\"Vogel\",wings=2)\n",
    "tweety.fly()"
   ]
  },
  {
   "cell_type": "code",
   "execution_count": null,
   "metadata": {},
   "outputs": [],
   "source": []
  }
 ],
 "metadata": {
  "kernelspec": {
   "display_name": "Python 3",
   "language": "python",
   "name": "python3"
  },
  "language_info": {
   "codemirror_mode": {
    "name": "ipython",
    "version": 3
   },
   "file_extension": ".py",
   "mimetype": "text/x-python",
   "name": "python",
   "nbconvert_exporter": "python",
   "pygments_lexer": "ipython3",
   "version": "3.7.1"
  }
 },
 "nbformat": 4,
 "nbformat_minor": 2
}
