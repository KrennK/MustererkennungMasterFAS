{
 "cells": [
  {
   "cell_type": "markdown",
   "metadata": {},
   "source": [
    "# Bayes Klassifikator mit Normalverteilungsannahme\n"
   ]
  },
  {
   "cell_type": "markdown",
   "metadata": {},
   "source": [
    "## Modell\n",
    "\n",
    "![](../images/klassifikator.png)\n",
    "\n",
    "- Modell: Die Muster sind klassenweise normalverteilt.\n",
    "- Parameter: pro Klasse benötigen wir Mittelwert, Kovarianzmatrix und\n",
    "a-priori-Wahrscheinlichkeit\n",
    "- Algorithmus: Berechne a-posteriori-Wahrscheinlichkeit für alle Klassen und\n",
    "gebe wahrscheinlichste Klasse aus.\n"
   ]
  },
  {
   "cell_type": "markdown",
   "metadata": {},
   "source": [
    "## Quellcode\n",
    "\n",
    "Der folgende Python-Code realisiert einen Bayes Klassifikator mit Normalverteilungsannahme. (Er ist auch in der Datei **bayes.py** zu finden.)"
   ]
  },
  {
   "cell_type": "code",
   "execution_count": 1,
   "metadata": {},
   "outputs": [],
   "source": [
    "import numpy as np\n",
    "import math\n",
    "\n",
    "class NormalBayes(object):\n",
    "    \"\"\"\"Bayes classifier.\n",
    "\n",
    "    Parameters\n",
    "    ------------\n",
    "    none\n",
    "    \n",
    "    Attributes\n",
    "    -----------\n",
    "    mean_ : mean vectors of each class\n",
    "    kova_ : kovariance matrices\n",
    "    apri_ : a-priori probabilities\n",
    "    \"\"\"\n",
    " \n",
    "    labels_ = []\n",
    "    mean_ = {}\n",
    "    kova_ = {}\n",
    "    freq_ = {}\n",
    "    apri_ = {}\n",
    "        \n",
    "    def __init__(self):\n",
    "        pass\n",
    "    \n",
    "    # calculate normal density\n",
    "    def norm_pdf(self, x, mu, sigma):\n",
    "        size = len(x)\n",
    "        if size == len(mu) and (size, size) == sigma.shape:\n",
    "            # determinant\n",
    "            det = np.linalg.det(2*math.pi*sigma)\n",
    "            if det == 0:\n",
    "                raise NameError(\"Die Kovarianzmatrix darf nicht singulär sein\")\n",
    "\n",
    "            # factor in front of exp\n",
    "            norm_const = 1.0 / math.pow(det,0.5)\n",
    "            x_mu = np.matrix(x - mu)\n",
    "            inv = np.linalg.inv(sigma)       \n",
    "            result = math.pow(math.e, -0.5 * (x_mu * inv * x_mu.T))\n",
    "            return norm_const * result\n",
    "        else:\n",
    "            raise NameError(\"Dimensionen passen nicht\")\n",
    "    \n",
    "    \n",
    "    def fit(self, X, y):\n",
    "        \"\"\"Fit training data.\n",
    "\n",
    "        Parameters\n",
    "        ----------\n",
    "        X : {array-like}, shape = [n_samples, n_features]\n",
    "            Training vectors, where n_samples is the number of samples and\n",
    "            n_features is the number of features.\n",
    "        y : array-like, shape = [n_samples]\n",
    "            Target values.\n",
    "\n",
    "        Returns\n",
    "        -------\n",
    "        none\n",
    "\n",
    "        \"\"\"\n",
    "        \n",
    "        self.labels_ = []\n",
    "        self.mean_ = {}\n",
    "        self.kova_ = {}\n",
    "        self.freq_ = {}\n",
    "        self.apri_ = {}\n",
    "        \n",
    "        # estimate mean vectors\n",
    "        for sample,k in zip(X,y):\n",
    "            if k not in self.labels_:\n",
    "                self.labels_.append(k)\n",
    "                self.mean_[k] = sample\n",
    "                self.freq_[k] = 1\n",
    "            else:\n",
    "                self.mean_[k] += sample\n",
    "                self.freq_[k] += 1\n",
    "        \n",
    "        for k in self.labels_:\n",
    "            self.mean_[k] /= self.freq_[k]\n",
    "            \n",
    "        # estimate covariance matrices\n",
    "        for sample,k in zip(X,y):\n",
    "            x_minus_mu = sample - self.mean_[k]\n",
    "            if k not in self.kova_:\n",
    "                self.kova_[k] = np.outer(x_minus_mu,x_minus_mu)\n",
    "            else:\n",
    "                self.kova_[k] += np.outer(x_minus_mu,x_minus_mu)\n",
    "                \n",
    "        for k in self.labels_:\n",
    "            self.kova_[k] /= self.freq_[k]\n",
    "            \n",
    "        # estimate a-priori\n",
    "        samples = len(X)\n",
    "        for k in self.labels_:\n",
    "            self.apri_[k] = self.freq_[k]/samples\n",
    "            \n",
    "       \n",
    "    def predict(self,X):\n",
    "        \"\"\"Return class label with highest a-posteriori probability\"\"\"\n",
    "        Y = []\n",
    "        for sample in X:\n",
    "            results = []\n",
    "            for k in self.labels_:\n",
    "                results.append(self.norm_pdf(sample,self.mean_[k],self.kova_[k])*self.apri_[k])\n",
    "            Y.append(self.labels_[np.argmax(results)])\n",
    "        return Y"
   ]
  },
  {
   "cell_type": "markdown",
   "metadata": {},
   "source": [
    "## Klassifikation mit scikit-learn\n"
   ]
  },
  {
   "cell_type": "markdown",
   "metadata": {},
   "source": [
    "Schritte:\n",
    "\n",
    "1. Einlesen der benötigten Daten\n",
    "2. Aufrufen des Konstruktors für den Klassifikator\n",
    "3. Trainieren des Klassifikators mit der Methode ```fit()```\n",
    "4. Klassifizieren der Testmuster mit der Methode  ```predict()```\n",
    "5. Ausgabe des Resultats"
   ]
  },
  {
   "cell_type": "markdown",
   "metadata": {},
   "source": [
    "## Beispiel: Klassifikation der Iris-Daten"
   ]
  },
  {
   "cell_type": "markdown",
   "metadata": {},
   "source": [
    "Schritt 1: Daten einlesen"
   ]
  },
  {
   "cell_type": "code",
   "execution_count": 2,
   "metadata": {
    "scrolled": false
   },
   "outputs": [
    {
     "data": {
      "text/html": [
       "<div>\n",
       "<style scoped>\n",
       "    .dataframe tbody tr th:only-of-type {\n",
       "        vertical-align: middle;\n",
       "    }\n",
       "\n",
       "    .dataframe tbody tr th {\n",
       "        vertical-align: top;\n",
       "    }\n",
       "\n",
       "    .dataframe thead th {\n",
       "        text-align: right;\n",
       "    }\n",
       "</style>\n",
       "<table border=\"1\" class=\"dataframe\">\n",
       "  <thead>\n",
       "    <tr style=\"text-align: right;\">\n",
       "      <th></th>\n",
       "      <th>Länge Kelchblatt</th>\n",
       "      <th>Breite Kelchblatt</th>\n",
       "      <th>Länge Blütenblatt</th>\n",
       "      <th>Breite Blütenblatt</th>\n",
       "    </tr>\n",
       "    <tr>\n",
       "      <th>Label</th>\n",
       "      <th></th>\n",
       "      <th></th>\n",
       "      <th></th>\n",
       "      <th></th>\n",
       "    </tr>\n",
       "  </thead>\n",
       "  <tbody>\n",
       "    <tr>\n",
       "      <th>Iris-setosa</th>\n",
       "      <td>5.1</td>\n",
       "      <td>3.5</td>\n",
       "      <td>1.4</td>\n",
       "      <td>0.2</td>\n",
       "    </tr>\n",
       "    <tr>\n",
       "      <th>Iris-setosa</th>\n",
       "      <td>4.9</td>\n",
       "      <td>3.0</td>\n",
       "      <td>1.4</td>\n",
       "      <td>0.2</td>\n",
       "    </tr>\n",
       "    <tr>\n",
       "      <th>Iris-setosa</th>\n",
       "      <td>4.7</td>\n",
       "      <td>3.2</td>\n",
       "      <td>1.3</td>\n",
       "      <td>0.2</td>\n",
       "    </tr>\n",
       "    <tr>\n",
       "      <th>Iris-setosa</th>\n",
       "      <td>4.6</td>\n",
       "      <td>3.1</td>\n",
       "      <td>1.5</td>\n",
       "      <td>0.2</td>\n",
       "    </tr>\n",
       "    <tr>\n",
       "      <th>Iris-setosa</th>\n",
       "      <td>5.0</td>\n",
       "      <td>3.6</td>\n",
       "      <td>1.4</td>\n",
       "      <td>0.2</td>\n",
       "    </tr>\n",
       "  </tbody>\n",
       "</table>\n",
       "</div>"
      ],
      "text/plain": [
       "             Länge Kelchblatt  Breite Kelchblatt  Länge Blütenblatt  \\\n",
       "Label                                                                 \n",
       "Iris-setosa               5.1                3.5                1.4   \n",
       "Iris-setosa               4.9                3.0                1.4   \n",
       "Iris-setosa               4.7                3.2                1.3   \n",
       "Iris-setosa               4.6                3.1                1.5   \n",
       "Iris-setosa               5.0                3.6                1.4   \n",
       "\n",
       "             Breite Blütenblatt  \n",
       "Label                            \n",
       "Iris-setosa                 0.2  \n",
       "Iris-setosa                 0.2  \n",
       "Iris-setosa                 0.2  \n",
       "Iris-setosa                 0.2  \n",
       "Iris-setosa                 0.2  "
      ]
     },
     "execution_count": 2,
     "metadata": {},
     "output_type": "execute_result"
    }
   ],
   "source": [
    "import pandas as pd\n",
    "\n",
    "traindata = pd.read_csv('../datasets/iris/iris.data',header=None)\n",
    "traindata.columns=['Länge Kelchblatt','Breite Kelchblatt', 'Länge Blütenblatt', 'Breite Blütenblatt', 'Label']\n",
    "traindata.set_index(\"Label\", inplace=True)\n",
    "traindata.head()"
   ]
  },
  {
   "cell_type": "markdown",
   "metadata": {},
   "source": [
    "Schritt 2: Klassifikator konstruieren"
   ]
  },
  {
   "cell_type": "code",
   "execution_count": 3,
   "metadata": {},
   "outputs": [],
   "source": [
    "nvk = NormalBayes()"
   ]
  },
  {
   "cell_type": "markdown",
   "metadata": {},
   "source": [
    "Schritt 3: Klassifikator trainieren"
   ]
  },
  {
   "cell_type": "code",
   "execution_count": 4,
   "metadata": {},
   "outputs": [],
   "source": [
    "# Umwandlung der Daten in numPy-Arrays\n",
    "X = traindata.iloc[:,[0,1]].values\n",
    "y = traindata.index\n",
    "\n",
    "nvk.fit(X,y)"
   ]
  },
  {
   "cell_type": "markdown",
   "metadata": {},
   "source": [
    "Schritt 4: Testdaten klassifizieren"
   ]
  },
  {
   "cell_type": "code",
   "execution_count": 5,
   "metadata": {},
   "outputs": [],
   "source": [
    "# Iris-Datensatz hat keine separaten Testdaten!\n",
    "testdata=traindata\n",
    "\n",
    "X = testdata.iloc[:, [0, 1]].values\n",
    "y_pred_test = nvk.predict(X)"
   ]
  },
  {
   "cell_type": "markdown",
   "metadata": {},
   "source": [
    "Schritt 5: Ergebnisse anzeigen"
   ]
  },
  {
   "cell_type": "code",
   "execution_count": 6,
   "metadata": {},
   "outputs": [
    {
     "name": "stdout",
     "output_type": "stream",
     "text": [
      "Relative Number of mislabeled samples out of a total 150 samples : 19.33%\n"
     ]
    }
   ],
   "source": [
    "y_test = testdata.index\n",
    "errors = np.where(y_pred_test!=y_test,1,0).sum()\n",
    "# Fehler in Prozent\n",
    "errors = errors/len(X)*100\n",
    "print(\"Relative Number of mislabeled samples out of a total %d samples : %.2f%%\" % (len(X),errors))"
   ]
  },
  {
   "cell_type": "markdown",
   "metadata": {},
   "source": [
    "Das Paket **metrics** aus **scikit-learn** enthält praktische Toools zur Auswertung. So können z.B. sehr einfach Verwechslungsmatrizen berechnet werden, die anzeigen, wie häufig jede Klasse mit einer anderen verwechselt wurde."
   ]
  },
  {
   "cell_type": "code",
   "execution_count": 7,
   "metadata": {
    "scrolled": false
   },
   "outputs": [
    {
     "data": {
      "text/html": [
       "<div>\n",
       "<style scoped>\n",
       "    .dataframe tbody tr th:only-of-type {\n",
       "        vertical-align: middle;\n",
       "    }\n",
       "\n",
       "    .dataframe tbody tr th {\n",
       "        vertical-align: top;\n",
       "    }\n",
       "\n",
       "    .dataframe thead th {\n",
       "        text-align: right;\n",
       "    }\n",
       "</style>\n",
       "<table border=\"1\" class=\"dataframe\">\n",
       "  <thead>\n",
       "    <tr style=\"text-align: right;\">\n",
       "      <th></th>\n",
       "      <th>Iris-setosa</th>\n",
       "      <th>Iris-versicolor</th>\n",
       "      <th>Iris-virginica</th>\n",
       "    </tr>\n",
       "  </thead>\n",
       "  <tbody>\n",
       "    <tr>\n",
       "      <th>Iris-setosa</th>\n",
       "      <td>49</td>\n",
       "      <td>1</td>\n",
       "      <td>0</td>\n",
       "    </tr>\n",
       "    <tr>\n",
       "      <th>Iris-versicolor</th>\n",
       "      <td>0</td>\n",
       "      <td>38</td>\n",
       "      <td>12</td>\n",
       "    </tr>\n",
       "    <tr>\n",
       "      <th>Iris-virginica</th>\n",
       "      <td>0</td>\n",
       "      <td>16</td>\n",
       "      <td>34</td>\n",
       "    </tr>\n",
       "  </tbody>\n",
       "</table>\n",
       "</div>"
      ],
      "text/plain": [
       "                 Iris-setosa  Iris-versicolor  Iris-virginica\n",
       "Iris-setosa               49                1               0\n",
       "Iris-versicolor            0               38              12\n",
       "Iris-virginica             0               16              34"
      ]
     },
     "execution_count": 7,
     "metadata": {},
     "output_type": "execute_result"
    }
   ],
   "source": [
    "from sklearn.metrics import confusion_matrix\n",
    "result = confusion_matrix(y_test,y_pred_test) # Returns a ndarray\n",
    "cm_df = pd.DataFrame(\n",
    "    result, \n",
    "    index = [idx for idx in nvk.labels_],\n",
    "    columns = [col for col in nvk.labels_])\n",
    "cm_df"
   ]
  },
  {
   "cell_type": "markdown",
   "metadata": {},
   "source": [
    "In Kombination mit der Bibliothek seaborn können die Verwechslungen noch farbig hervorgehoben werden:"
   ]
  },
  {
   "cell_type": "code",
   "execution_count": 10,
   "metadata": {},
   "outputs": [
    {
     "data": {
      "image/png": "[encoded data removed]",
      "text/plain": [
       "<Figure size 720x576 with 2 Axes>"
      ]
     },
     "metadata": {},
     "output_type": "display_data"
    }
   ],
   "source": [
    "import matplotlib.pyplot as plt\n",
    "import seaborn as sns\n",
    "\n",
    "plt.figure(figsize = (10,8)) # sets plot size\n",
    "sns.heatmap(cm_df, annot=True,fmt='d') # creates heat map\n",
    "plt.show() # shows figure"
   ]
  },
  {
   "cell_type": "markdown",
   "metadata": {},
   "source": [
    "## Vergleich mit Naive Bayes"
   ]
  },
  {
   "cell_type": "code",
   "execution_count": 9,
   "metadata": {},
   "outputs": [
    {
     "name": "stdout",
     "output_type": "stream",
     "text": [
      "Relative Number of mislabeled samples out of a total 150 samples : 22.00%\n"
     ]
    },
    {
     "data": {
      "image/png": "[encoded data removed]",
      "text/plain": [
       "<Figure size 720x576 with 2 Axes>"
      ]
     },
     "metadata": {},
     "output_type": "display_data"
    }
   ],
   "source": [
    "from sklearn.naive_bayes import GaussianNB\n",
    "gnb = GaussianNB()\n",
    "\n",
    "X = traindata.iloc[:,[0,1]].values\n",
    "y_train = traindata.index\n",
    "\n",
    "gnb.fit(X, y_train)\n",
    "\n",
    "X_test = testdata.iloc[:,[0,1]].values\n",
    "y_pred = gnb.predict(X_test)\n",
    "\n",
    "\n",
    "print(\"Relative Number of mislabeled samples out of a total %d samples : %.2f%%\" \n",
    "      % (X_test.shape[0],(y_test != y_pred).sum()/X_test.shape[0]*100))\n",
    "\n",
    "classes = np.unique(y_pred)\n",
    "result = confusion_matrix(y_test,y_pred) \n",
    "cm_df = pd.DataFrame(\n",
    "    result, \n",
    "    index = [idx for idx in classes],\n",
    "    columns = [col for col in classes])\n",
    "\n",
    "plt.figure(figsize = (10,8)) \n",
    "sns.heatmap(cm_df, annot=True,fmt='d') \n",
    "plt.show() # shows figure"
   ]
  },
  {
   "cell_type": "code",
   "execution_count": null,
   "metadata": {},
   "outputs": [],
   "source": []
  }
 ],
 "metadata": {
  "celltoolbar": "Raw Cell Format",
  "kernelspec": {
   "display_name": "Python 3",
   "language": "python",
   "name": "python3"
  },
  "language_info": {
   "codemirror_mode": {
    "name": "ipython",
    "version": 3
   },
   "file_extension": ".py",
   "mimetype": "text/x-python",
   "name": "python",
   "nbconvert_exporter": "python",
   "pygments_lexer": "ipython3",
   "version": "3.7.1"
  }
 },
 "nbformat": 4,
 "nbformat_minor": 1
}
