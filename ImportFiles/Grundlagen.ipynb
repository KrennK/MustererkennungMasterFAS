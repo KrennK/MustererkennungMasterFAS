
<!-- saved from url=(0098)https://moodle2.hs-kempten.de/moodle/pluginfile.php/193642/mod_resource/content/1/Grundlagen.ipynb -->
<html><head><meta http-equiv="Content-Type" content="text/html; charset=windows-1252"></head><body>{
 "cells": [
  {
   "cell_type": "markdown",
   "metadata": {},
   "source": [
    "# Grundlagen"
   ]
  },
  {
   "cell_type": "markdown",
   "metadata": {},
   "source": [
    "![](../images/vorgehensweise.png)"
   ]
  },
  {
   "cell_type": "markdown",
   "metadata": {},
   "source": [
    "## Verwendbare Bibliotheken in Python\n",
    "\n",
    "Für das Arbeiten mit Stichproben steht die umfangreiche **Pandas**-Bibliothek bereit. Eine kurze Einführung ist in [hier](https://pandas.pydata.org/pandas-docs/stable/10min.html) zu finden.\n",
    "Pandas bietet unter anderem die Möglichkeit, \n",
    "- Stichproben einzulesen\n",
    "- Datensätze zu selektieren\n",
    "- Fehlende Daten zu ergänzen"
   ]
  },
  {
   "cell_type": "markdown",
   "metadata": {},
   "source": [
    "Zur Visualisierung von Daten kann die **Matplotlib** oder die darauf aufbauende Bibliothek **Seaborn** verwendet werden. Einführungen findet man [hier](https://matplotlib.org/tutorials/index.html#introductory) und [hier](https://seaborn.pydata.org/tutorial.html). Interessant sind hierbei Methoden zur Darstellung von\n",
    "- Histogramme und Verteilungen\n",
    "- Scatterplots, und\n",
    "- Heatmaps"
   ]
  },
  {
   "cell_type": "markdown",
   "metadata": {},
   "source": [
    "Für das Machine Learning gibt es die sehr umfangreiche Bibilothek **scikit-learn** mit ihren Unterbibliotheken für **preprocessing**, **model selection**, **classification**, **regression**, **clustering** und **dimensionality reduction**."
   ]
  },
  {
   "cell_type": "markdown",
   "metadata": {},
   "source": [
    "# Pandas"
   ]
  },
  {
   "cell_type": "markdown",
   "metadata": {},
   "source": [
    "## Imports\n",
    "\n",
    "Um mit Pandas arbeiten zu können, muss zuerst das Modul geladen werden:"
   ]
  },
  {
   "cell_type": "code",
   "execution_count": 1,
   "metadata": {},
   "outputs": [],
   "source": [
    "import pandas as pd"
   ]
  },
  {
   "cell_type": "markdown",
   "metadata": {},
   "source": [
    "## Datensätze\n",
    "\n",
    "Pandas arbeitet mit Datensätzen (sog. DataFrames). Diese können mit dem Konstruktor aus einem Dictionary erzeugt werden. Die Attribute des Dictionaries sind die Spalten, die Attributwerte sind Listen. Die Listen müssen alle dieselbe Länge besitzen."
   ]
  },
  {
   "cell_type": "code",
   "execution_count": 2,
   "metadata": {},
   "outputs": [
    {
     "data": {
      "text/html": [
       "<div>\n",
       "<style scoped="">\n",
       "    .dataframe tbody tr th:only-of-type {\n",
       "        vertical-align: middle;\n",
       "    }\n",
       "\n",
       "    .dataframe tbody tr th {\n",
       "        vertical-align: top;\n",
       "    }\n",
       "\n",
       "    .dataframe thead th {\n",
       "        text-align: right;\n",
       "    }\n",
       "</style>\n",
       "\n",
       "  \n",
       "    \n",
       "      \n",
       "      \n",
       "      \n",
       "    \n",
       "  \n",
       "  \n",
       "    \n",
       "      \n",
       "      \n",
       "      \n",
       "    \n",
       "    \n",
       "      \n",
       "      \n",
       "      \n",
       "    \n",
       "    \n",
       "      \n",
       "      \n",
       "      \n",
       "    \n",
       "  \n",
       "<table border="\&quot;1\&quot;" class="\&quot;dataframe\&quot;"><thead><tr style="\&quot;text-align:" right;\"=""><th></th><th>x1</th><th>x2</th></tr></thead><tbody><tr><th>0</th><td>0</td><td>3</td></tr><tr><th>1</th><td>1</td><td>4</td></tr><tr><th>2</th><td>2</td><td>3</td></tr></tbody></table>\n",
       "</div>"
      ],
      "text/plain": [
       "   x1  x2\n",
       "0   0   3\n",
       "1   1   4\n",
       "2   2   3"
      ]
     },
     "execution_count": 2,
     "metadata": {},
     "output_type": "execute_result"
    }
   ],
   "source": [
    "data = pd.DataFrame({'x1' : [ 0, 1, 2] ,\n",
    "                     'x2' : [ 3, 4, 3]})\n",
    "data"
   ]
  },
  {
   "cell_type": "markdown",
   "metadata": {},
   "source": [
    "Daten können aber auch aus Dateien gelesen werden. Die einfachste Form ist hierbei das Ascii-Text Tabellenformat csv. Dies kann wie folgt eingelesen werden, wobei der Parameter ```header=None``` angibt, dass die erste Zeile keine Beschriftungen enthält."
   ]
  },
  {
   "cell_type": "code",
   "execution_count": 3,
   "metadata": {},
   "outputs": [],
   "source": [
    "data = pd.read_csv('../datasets/iris/iris.data',header=None)"
   ]
  },
  {
   "cell_type": "markdown",
   "metadata": {},
   "source": [
    "Die Spaltenbezeichnungen erhält man über das Attribut ```columns```. Dieses kann auch gesetzt werden, wenn die Beschriftungen fehlen:"
   ]
  },
  {
   "cell_type": "code",
   "execution_count": 4,
   "metadata": {},
   "outputs": [],
   "source": [
    "data.columns=['Länge Kelchblatt','Breite Kelchblatt', 'Länge Blütenblatt', 'Breite Blütenblatt', 'Label']\n"
   ]
  },
  {
   "cell_type": "markdown",
   "metadata": {},
   "source": [
    "Mit Hilfe der Methode ```describe()``` können die Anzahl der Datensätze und statistische Kennzahlen ausgegeben werden."
   ]
  },
  {
   "cell_type": "code",
   "execution_count": 5,
   "metadata": {},
   "outputs": [
    {
     "data": {
      "text/html": [
       "<div>\n",
       "<style scoped="">\n",
       "    .dataframe tbody tr th:only-of-type {\n",
       "        vertical-align: middle;\n",
       "    }\n",
       "\n",
       "    .dataframe tbody tr th {\n",
       "        vertical-align: top;\n",
       "    }\n",
       "\n",
       "    .dataframe thead th {\n",
       "        text-align: right;\n",
       "    }\n",
       "</style>\n",
       "\n",
       "  \n",
       "    \n",
       "      \n",
       "      \n",
       "      \n",
       "      \n",
       "      \n",
       "    \n",
       "  \n",
       "  \n",
       "    \n",
       "      \n",
       "      \n",
       "      \n",
       "      \n",
       "      \n",
       "    \n",
       "    \n",
       "      \n",
       "      \n",
       "      \n",
       "      \n",
       "      \n",
       "    \n",
       "    \n",
       "      \n",
       "      \n",
       "      \n",
       "      \n",
       "      \n",
       "    \n",
       "    \n",
       "      \n",
       "      \n",
       "      \n",
       "      \n",
       "      \n",
       "    \n",
       "    \n",
       "      \n",
       "      \n",
       "      \n",
       "      \n",
       "      \n",
       "    \n",
       "    \n",
       "      \n",
       "      \n",
       "      \n",
       "      \n",
       "      \n",
       "    \n",
       "    \n",
       "      \n",
       "      \n",
       "      \n",
       "      \n",
       "      \n",
       "    \n",
       "    \n",
       "      \n",
       "      \n",
       "      \n",
       "      \n",
       "      \n",
       "    \n",
       "  \n",
       "<table border="\&quot;1\&quot;" class="\&quot;dataframe\&quot;"><thead><tr style="\&quot;text-align:" right;\"=""><th></th><th>Länge Kelchblatt</th><th>Breite Kelchblatt</th><th>Länge Blütenblatt</th><th>Breite Blütenblatt</th></tr></thead><tbody><tr><th>count</th><td>150.000000</td><td>150.000000</td><td>150.000000</td><td>150.000000</td></tr><tr><th>mean</th><td>5.843333</td><td>3.054000</td><td>3.758667</td><td>1.198667</td></tr><tr><th>std</th><td>0.828066</td><td>0.433594</td><td>1.764420</td><td>0.763161</td></tr><tr><th>min</th><td>4.300000</td><td>2.000000</td><td>1.000000</td><td>0.100000</td></tr><tr><th>25%</th><td>5.100000</td><td>2.800000</td><td>1.600000</td><td>0.300000</td></tr><tr><th>50%</th><td>5.800000</td><td>3.000000</td><td>4.350000</td><td>1.300000</td></tr><tr><th>75%</th><td>6.400000</td><td>3.300000</td><td>5.100000</td><td>1.800000</td></tr><tr><th>max</th><td>7.900000</td><td>4.400000</td><td>6.900000</td><td>2.500000</td></tr></tbody></table>\n",
       "</div>"
      ],
      "text/plain": [
       "       Länge Kelchblatt  Breite Kelchblatt  Länge Blütenblatt  \\\n",
       "count        150.000000         150.000000         150.000000   \n",
       "mean           5.843333           3.054000           3.758667   \n",
       "std            0.828066           0.433594           1.764420   \n",
       "min            4.300000           2.000000           1.000000   \n",
       "25%            5.100000           2.800000           1.600000   \n",
       "50%            5.800000           3.000000           4.350000   \n",
       "75%            6.400000           3.300000           5.100000   \n",
       "max            7.900000           4.400000           6.900000   \n",
       "\n",
       "       Breite Blütenblatt  \n",
       "count          150.000000  \n",
       "mean             1.198667  \n",
       "std              0.763161  \n",
       "min              0.100000  \n",
       "25%              0.300000  \n",
       "50%              1.300000  \n",
       "75%              1.800000  \n",
       "max              2.500000  "
      ]
     },
     "execution_count": 5,
     "metadata": {},
     "output_type": "execute_result"
    }
   ],
   "source": [
    "data.describe()"
   ]
  },
  {
   "cell_type": "markdown",
   "metadata": {},
   "source": [
    "### Selektion der Daten"
   ]
  },
  {
   "cell_type": "markdown",
   "metadata": {},
   "source": [
    "Die Ausgabe der ersten 5 Zeilen erfolgt mit:"
   ]
  },
  {
   "cell_type": "code",
   "execution_count": 6,
   "metadata": {},
   "outputs": [
    {
     "data": {
      "text/html": [
       "<div>\n",
       "<style scoped="">\n",
       "    .dataframe tbody tr th:only-of-type {\n",
       "        vertical-align: middle;\n",
       "    }\n",
       "\n",
       "    .dataframe tbody tr th {\n",
       "        vertical-align: top;\n",
       "    }\n",
       "\n",
       "    .dataframe thead th {\n",
       "        text-align: right;\n",
       "    }\n",
       "</style>\n",
       "\n",
       "  \n",
       "    \n",
       "      \n",
       "      \n",
       "      \n",
       "      \n",
       "      \n",
       "      \n",
       "    \n",
       "  \n",
       "  \n",
       "    \n",
       "      \n",
       "      \n",
       "      \n",
       "      \n",
       "      \n",
       "      \n",
       "    \n",
       "    \n",
       "      \n",
       "      \n",
       "      \n",
       "      \n",
       "      \n",
       "      \n",
       "    \n",
       "    \n",
       "      \n",
       "      \n",
       "      \n",
       "      \n",
       "      \n",
       "      \n",
       "    \n",
       "    \n",
       "      \n",
       "      \n",
       "      \n",
       "      \n",
       "      \n",
       "      \n",
       "    \n",
       "    \n",
       "      \n",
       "      \n",
       "      \n",
       "      \n",
       "      \n",
       "      \n",
       "    \n",
       "  \n",
       "<table border="\&quot;1\&quot;" class="\&quot;dataframe\&quot;"><thead><tr style="\&quot;text-align:" right;\"=""><th></th><th>Länge Kelchblatt</th><th>Breite Kelchblatt</th><th>Länge Blütenblatt</th><th>Breite Blütenblatt</th><th>Label</th></tr></thead><tbody><tr><th>0</th><td>5.1</td><td>3.5</td><td>1.4</td><td>0.2</td><td>Iris-setosa</td></tr><tr><th>1</th><td>4.9</td><td>3.0</td><td>1.4</td><td>0.2</td><td>Iris-setosa</td></tr><tr><th>2</th><td>4.7</td><td>3.2</td><td>1.3</td><td>0.2</td><td>Iris-setosa</td></tr><tr><th>3</th><td>4.6</td><td>3.1</td><td>1.5</td><td>0.2</td><td>Iris-setosa</td></tr><tr><th>4</th><td>5.0</td><td>3.6</td><td>1.4</td><td>0.2</td><td>Iris-setosa</td></tr></tbody></table>\n",
       "</div>"
      ],
      "text/plain": [
       "   Länge Kelchblatt  Breite Kelchblatt  Länge Blütenblatt  Breite Blütenblatt  \\\n",
       "0               5.1                3.5                1.4                 0.2   \n",
       "1               4.9                3.0                1.4                 0.2   \n",
       "2               4.7                3.2                1.3                 0.2   \n",
       "3               4.6                3.1                1.5                 0.2   \n",
       "4               5.0                3.6                1.4                 0.2   \n",
       "\n",
       "         Label  \n",
       "0  Iris-setosa  \n",
       "1  Iris-setosa  \n",
       "2  Iris-setosa  \n",
       "3  Iris-setosa  \n",
       "4  Iris-setosa  "
      ]
     },
     "execution_count": 6,
     "metadata": {},
     "output_type": "execute_result"
    }
   ],
   "source": [
    "data.head()"
   ]
  },
  {
   "cell_type": "markdown",
   "metadata": {},
   "source": [
    "Die Ausgabe der letzten 5 Zeilen:"
   ]
  },
  {
   "cell_type": "code",
   "execution_count": 7,
   "metadata": {},
   "outputs": [
    {
     "data": {
      "text/html": [
       "<div>\n",
       "<style scoped="">\n",
       "    .dataframe tbody tr th:only-of-type {\n",
       "        vertical-align: middle;\n",
       "    }\n",
       "\n",
       "    .dataframe tbody tr th {\n",
       "        vertical-align: top;\n",
       "    }\n",
       "\n",
       "    .dataframe thead th {\n",
       "        text-align: right;\n",
       "    }\n",
       "</style>\n",
       "\n",
       "  \n",
       "    \n",
       "      \n",
       "      \n",
       "      \n",
       "      \n",
       "      \n",
       "      \n",
       "    \n",
       "  \n",
       "  \n",
       "    \n",
       "      \n",
       "      \n",
       "      \n",
       "      \n",
       "      \n",
       "      \n",
       "    \n",
       "    \n",
       "      \n",
       "      \n",
       "      \n",
       "      \n",
       "      \n",
       "      \n",
       "    \n",
       "    \n",
       "      \n",
       "      \n",
       "      \n",
       "      \n",
       "      \n",
       "      \n",
       "    \n",
       "    \n",
       "      \n",
       "      \n",
       "      \n",
       "      \n",
       "      \n",
       "      \n",
       "    \n",
       "    \n",
       "      \n",
       "      \n",
       "      \n",
       "      \n",
       "      \n",
       "      \n",
       "    \n",
       "  \n",
       "<table border="\&quot;1\&quot;" class="\&quot;dataframe\&quot;"><thead><tr style="\&quot;text-align:" right;\"=""><th></th><th>Länge Kelchblatt</th><th>Breite Kelchblatt</th><th>Länge Blütenblatt</th><th>Breite Blütenblatt</th><th>Label</th></tr></thead><tbody><tr><th>145</th><td>6.7</td><td>3.0</td><td>5.2</td><td>2.3</td><td>Iris-virginica</td></tr><tr><th>146</th><td>6.3</td><td>2.5</td><td>5.0</td><td>1.9</td><td>Iris-virginica</td></tr><tr><th>147</th><td>6.5</td><td>3.0</td><td>5.2</td><td>2.0</td><td>Iris-virginica</td></tr><tr><th>148</th><td>6.2</td><td>3.4</td><td>5.4</td><td>2.3</td><td>Iris-virginica</td></tr><tr><th>149</th><td>5.9</td><td>3.0</td><td>5.1</td><td>1.8</td><td>Iris-virginica</td></tr></tbody></table>\n",
       "</div>"
      ],
      "text/plain": [
       "     Länge Kelchblatt  Breite Kelchblatt  Länge Blütenblatt  \\\n",
       "145               6.7                3.0                5.2   \n",
       "146               6.3                2.5                5.0   \n",
       "147               6.5                3.0                5.2   \n",
       "148               6.2                3.4                5.4   \n",
       "149               5.9                3.0                5.1   \n",
       "\n",
       "     Breite Blütenblatt           Label  \n",
       "145                 2.3  Iris-virginica  \n",
       "146                 1.9  Iris-virginica  \n",
       "147                 2.0  Iris-virginica  \n",
       "148                 2.3  Iris-virginica  \n",
       "149                 1.8  Iris-virginica  "
      ]
     },
     "execution_count": 7,
     "metadata": {},
     "output_type": "execute_result"
    }
   ],
   "source": [
    "data.tail()"
   ]
  },
  {
   "cell_type": "markdown",
   "metadata": {},
   "source": [
    "Daten können mit Hilfe der Zeilen und/oder Spaltennummer(n) selektiert werden:"
   ]
  },
  {
   "cell_type": "code",
   "execution_count": 8,
   "metadata": {},
   "outputs": [
    {
     "data": {
      "text/html": [
       "<div>\n",
       "<style scoped="">\n",
       "    .dataframe tbody tr th:only-of-type {\n",
       "        vertical-align: middle;\n",
       "    }\n",
       "\n",
       "    .dataframe tbody tr th {\n",
       "        vertical-align: top;\n",
       "    }\n",
       "\n",
       "    .dataframe thead th {\n",
       "        text-align: right;\n",
       "    }\n",
       "</style>\n",
       "\n",
       "  \n",
       "    \n",
       "      \n",
       "      \n",
       "      \n",
       "    \n",
       "  \n",
       "  \n",
       "    \n",
       "      \n",
       "      \n",
       "      \n",
       "    \n",
       "    \n",
       "      \n",
       "      \n",
       "      \n",
       "    \n",
       "    \n",
       "      \n",
       "      \n",
       "      \n",
       "    \n",
       "  \n",
       "<table border="\&quot;1\&quot;" class="\&quot;dataframe\&quot;"><thead><tr style="\&quot;text-align:" right;\"=""><th></th><th>Länge Kelchblatt</th><th>Breite Kelchblatt</th></tr></thead><tbody><tr><th>1</th><td>4.9</td><td>3.0</td></tr><tr><th>3</th><td>4.6</td><td>3.1</td></tr><tr><th>8</th><td>4.4</td><td>2.9</td></tr></tbody></table>\n",
       "</div>"
      ],
      "text/plain": [
       "   Länge Kelchblatt  Breite Kelchblatt\n",
       "1               4.9                3.0\n",
       "3               4.6                3.1\n",
       "8               4.4                2.9"
      ]
     },
     "execution_count": 8,
     "metadata": {},
     "output_type": "execute_result"
    }
   ],
   "source": [
    "data.iloc[[1,3,8],[0,1]]  # Zeilen 1,3,8 mit Spalten 0 und 1"
   ]
  },
  {
   "cell_type": "markdown",
   "metadata": {},
   "source": [
    "Auch Text-Spalten können zur Selektion verwendet werden. Dazu müssen Sie allerdings in einen Index umgewandelt werden:"
   ]
  },
  {
   "cell_type": "code",
   "execution_count": 9,
   "metadata": {},
   "outputs": [
    {
     "data": {
      "text/html": [
       "<div>\n",
       "<style scoped="">\n",
       "    .dataframe tbody tr th:only-of-type {\n",
       "        vertical-align: middle;\n",
       "    }\n",
       "\n",
       "    .dataframe tbody tr th {\n",
       "        vertical-align: top;\n",
       "    }\n",
       "\n",
       "    .dataframe thead th {\n",
       "        text-align: right;\n",
       "    }\n",
       "</style>\n",
       "\n",
       "  \n",
       "    \n",
       "      \n",
       "      \n",
       "      \n",
       "      \n",
       "      \n",
       "    \n",
       "    \n",
       "      \n",
       "      \n",
       "      \n",
       "      \n",
       "      \n",
       "    \n",
       "  \n",
       "  \n",
       "    \n",
       "      \n",
       "      \n",
       "      \n",
       "      \n",
       "      \n",
       "    \n",
       "    \n",
       "      \n",
       "      \n",
       "      \n",
       "      \n",
       "      \n",
       "    \n",
       "    \n",
       "      \n",
       "      \n",
       "      \n",
       "      \n",
       "      \n",
       "    \n",
       "    \n",
       "      \n",
       "      \n",
       "      \n",
       "      \n",
       "      \n",
       "    \n",
       "    \n",
       "      \n",
       "      \n",
       "      \n",
       "      \n",
       "      \n",
       "    \n",
       "  \n",
       "<table border="\&quot;1\&quot;" class="\&quot;dataframe\&quot;"><thead><tr style="\&quot;text-align:" right;\"=""><th></th><th>Länge Kelchblatt</th><th>Breite Kelchblatt</th><th>Länge Blütenblatt</th><th>Breite Blütenblatt</th></tr><tr><th>Label</th><th></th><th></th><th></th><th></th></tr></thead><tbody><tr><th>Iris-setosa</th><td>5.1</td><td>3.5</td><td>1.4</td><td>0.2</td></tr><tr><th>Iris-setosa</th><td>4.9</td><td>3.0</td><td>1.4</td><td>0.2</td></tr><tr><th>Iris-setosa</th><td>4.7</td><td>3.2</td><td>1.3</td><td>0.2</td></tr><tr><th>Iris-setosa</th><td>4.6</td><td>3.1</td><td>1.5</td><td>0.2</td></tr><tr><th>Iris-setosa</th><td>5.0</td><td>3.6</td><td>1.4</td><td>0.2</td></tr></tbody></table>\n",
       "</div>"
      ],
      "text/plain": [
       "             Länge Kelchblatt  Breite Kelchblatt  Länge Blütenblatt  \\\n",
       "Label                                                                 \n",
       "Iris-setosa               5.1                3.5                1.4   \n",
       "Iris-setosa               4.9                3.0                1.4   \n",
       "Iris-setosa               4.7                3.2                1.3   \n",
       "Iris-setosa               4.6                3.1                1.5   \n",
       "Iris-setosa               5.0                3.6                1.4   \n",
       "\n",
       "             Breite Blütenblatt  \n",
       "Label                            \n",
       "Iris-setosa                 0.2  \n",
       "Iris-setosa                 0.2  \n",
       "Iris-setosa                 0.2  \n",
       "Iris-setosa                 0.2  \n",
       "Iris-setosa                 0.2  "
      ]
     },
     "execution_count": 9,
     "metadata": {},
     "output_type": "execute_result"
    }
   ],
   "source": [
    "data.set_index(\"Label\", inplace=True)     # Spalte 'Label' als Index\n",
    "data.head()"
   ]
  },
  {
   "cell_type": "markdown",
   "metadata": {},
   "source": [
    "Die ersten 3 Datensätze mit Label 'Iris-virginica' selektieren:"
   ]
  },
  {
   "cell_type": "code",
   "execution_count": 10,
   "metadata": {},
   "outputs": [
    {
     "data": {
      "text/html": [
       "<div>\n",
       "<style scoped="">\n",
       "    .dataframe tbody tr th:only-of-type {\n",
       "        vertical-align: middle;\n",
       "    }\n",
       "\n",
       "    .dataframe tbody tr th {\n",
       "        vertical-align: top;\n",
       "    }\n",
       "\n",
       "    .dataframe thead th {\n",
       "        text-align: right;\n",
       "    }\n",
       "</style>\n",
       "\n",
       "  \n",
       "    \n",
       "      \n",
       "      \n",
       "      \n",
       "    \n",
       "    \n",
       "      \n",
       "      \n",
       "      \n",
       "    \n",
       "  \n",
       "  \n",
       "    \n",
       "      \n",
       "      \n",
       "      \n",
       "    \n",
       "    \n",
       "      \n",
       "      \n",
       "      \n",
       "    \n",
       "    \n",
       "      \n",
       "      \n",
       "      \n",
       "    \n",
       "  \n",
       "<table border="\&quot;1\&quot;" class="\&quot;dataframe\&quot;"><thead><tr style="\&quot;text-align:" right;\"=""><th></th><th>Länge Kelchblatt</th><th>Breite Kelchblatt</th></tr><tr><th>Label</th><th></th><th></th></tr></thead><tbody><tr><th>Iris-virginica</th><td>6.3</td><td>3.3</td></tr><tr><th>Iris-virginica</th><td>5.8</td><td>2.7</td></tr><tr><th>Iris-virginica</th><td>7.1</td><td>3.0</td></tr></tbody></table>\n",
       "</div>"
      ],
      "text/plain": [
       "                Länge Kelchblatt  Breite Kelchblatt\n",
       "Label                                              \n",
       "Iris-virginica               6.3                3.3\n",
       "Iris-virginica               5.8                2.7\n",
       "Iris-virginica               7.1                3.0"
      ]
     },
     "execution_count": 10,
     "metadata": {},
     "output_type": "execute_result"
    }
   ],
   "source": [
    "data.loc['Iris-virginica',['Länge Kelchblatt', 'Breite Kelchblatt']].head(3)"
   ]
  },
  {
   "cell_type": "markdown",
   "metadata": {},
   "source": [
    "## Umwandlung in NumPy-Array"
   ]
  },
  {
   "cell_type": "markdown",
   "metadata": {},
   "source": [
    "Scikit-learn verwendet für seine Algorithmen die Bibliothek NumPy. NumPy ermöglicht eine einfache Verwendung von Vektoren, Matrizen oder generell großen mehrdimensionalen Arrays. Die Umwandlung eines Pandas-Datensatzes in ein NumPy-Array erfolgt mit dem Attribut 'values':"
   ]
  },
  {
   "cell_type": "code",
   "execution_count": 11,
   "metadata": {},
   "outputs": [
    {
     "data": {
      "text/plain": [
       "array([[0, 3],\n",
       "       [1, 4],\n",
       "       [2, 5]])"
      ]
     },
     "execution_count": 11,
     "metadata": {},
     "output_type": "execute_result"
    }
   ],
   "source": [
    "data2 = pd.DataFrame({'x1' : [ 0, 1, 2] ,\n",
    "                     'x2' : [ 3, 4, 5]})\n",
    "data2.values"
   ]
  },
  {
   "cell_type": "markdown",
   "metadata": {},
   "source": [
    "# Matplotlib"
   ]
  },
  {
   "cell_type": "markdown",
   "metadata": {},
   "source": [
    "## Imports"
   ]
  },
  {
   "cell_type": "code",
   "execution_count": 12,
   "metadata": {},
   "outputs": [],
   "source": [
    "import matplotlib.pyplot as plt"
   ]
  },
  {
   "cell_type": "markdown",
   "metadata": {},
   "source": [
    "## Diagramme"
   ]
  },
  {
   "cell_type": "markdown",
   "metadata": {},
   "source": [
    "**Histogramme** können mit der Funktion ```hist()``` geplottet werden:"
   ]
  },
  {
   "cell_type": "code",
   "execution_count": 13,
   "metadata": {},
   "outputs": [
    {
     "data": {
      "image/png": "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\n",
      "text/plain": [
       "<figure size="" 432x288="" with="" 1="" axes="">"
      ]
     },
     "metadata": {
      "needs_background": "light"
     },
     "output_type": "display_data"
    }
   ],
   "source": [
    "# Klasse und Merkmal selektieren\n",
    "X1 = data.loc['Iris-setosa','Breite Kelchblatt'].values\n",
    "X2 = data.loc['Iris-virginica','Breite Kelchblatt'].values\n",
    "\n",
    "plt.hist([X1],bins=20, alpha=0.8)\n",
    "plt.hist([X2],bins=20, alpha=0.8)\n",
    "\n",
    "# jetzt ausgeben\n",
    "plt.show()"
   ]
  },
  {
   "cell_type": "markdown",
   "metadata": {},
   "source": [
    "**Scatterplots** können mit der Funktion ```scatter()``` erstellt werden. Diese Funktion erwartet eine Liste von Punkten, aufgeteilt in zwei Listen: Eine Liste für die X-Achse, eine Liste für die Y-Achse. Darüber hinaus können angaben zur Farbe, Form und Bezeichnung der Punkte gemacht werden. "
   ]
  },
  {
   "cell_type": "code",
   "execution_count": 14,
   "metadata": {},
   "outputs": [
    {
     "data": {
      "image/png": "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\n",
      "text/plain": [
       "<figure size="" 432x288="" with="" 1="" axes="">"
      ]
     },
     "metadata": {
      "needs_background": "light"
     },
     "output_type": "display_data"
    }
   ],
   "source": [
    "# extract values\n",
    "X = data.iloc[:, [0, 1]].values\n",
    "\n",
    "# plot data\n",
    "plt.scatter(X[:50, 0], X[:50, 1],\n",
    "            color='red', marker='o', label='A')\n",
    "plt.scatter(X[100:150, 0], X[100:150, 1],\n",
    "            color='blue', marker='x', label='B')\n",
    "\n",
    "plt.xlabel('x1')\n",
    "plt.ylabel('x2')\n",
    "plt.legend(loc='upper left')\n",
    "\n",
    "plt.tight_layout()\n",
    "#plt.savefig('./images/test.png', dpi=300)\n",
    "plt.show()"
   ]
  },
  {
   "cell_type": "code",
   "execution_count": null,
   "metadata": {},
   "outputs": [],
   "source": []
  }
 ],
 "metadata": {
  "kernelspec": {
   "display_name": "Python 3",
   "language": "python",
   "name": "python3"
  },
  "language_info": {
   "codemirror_mode": {
    "name": "ipython",
    "version": 3
   },
   "file_extension": ".py",
   "mimetype": "text/x-python",
   "name": "python",
   "nbconvert_exporter": "python",
   "pygments_lexer": "ipython3",
   "version": "3.6.8"
  }
 },
 "nbformat": 4,
 "nbformat_minor": 2
}
</figure></figure></body></html>